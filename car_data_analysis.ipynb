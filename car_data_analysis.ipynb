{
 "cells": [
  {
   "cell_type": "code",
   "execution_count": 29,
   "id": "abbdbd7a-e3f9-4c3f-9896-6e119c09cb6b",
   "metadata": {},
   "outputs": [],
   "source": [
    "import pandas as pd\n",
    "import numpy as np\n",
    "import matplotlib.pyplot as plt\n",
    "import seaborn as sns\n",
    "df = pd.read_csv(\"car_data.csv\")"
   ]
  },
  {
   "cell_type": "code",
   "execution_count": 30,
   "id": "894c4828-2985-429e-b74a-d625234dbf1e",
   "metadata": {},
   "outputs": [
    {
     "name": "stdout",
     "output_type": "stream",
     "text": [
      "<class 'pandas.core.frame.DataFrame'>\n",
      "RangeIndex: 301 entries, 0 to 300\n",
      "Data columns (total 9 columns):\n",
      " #   Column         Non-Null Count  Dtype  \n",
      "---  ------         --------------  -----  \n",
      " 0   Car_Name       301 non-null    object \n",
      " 1   Year           301 non-null    int64  \n",
      " 2   Selling_Price  301 non-null    float64\n",
      " 3   Present_Price  301 non-null    float64\n",
      " 4   Kms_Driven     301 non-null    int64  \n",
      " 5   Fuel_Type      301 non-null    object \n",
      " 6   Seller_Type    301 non-null    object \n",
      " 7   Transmission   301 non-null    object \n",
      " 8   Owner          301 non-null    int64  \n",
      "dtypes: float64(2), int64(3), object(4)\n",
      "memory usage: 21.3+ KB\n"
     ]
    }
   ],
   "source": [
    "df.info()"
   ]
  },
  {
   "cell_type": "markdown",
   "id": "76d90ffd-7d91-4f47-b227-e31b944b88b7",
   "metadata": {},
   "source": [
    "From the above output we know that the dataset consists of 9 columns amongst which 3 have int datatype, 2 have float data type and rest have object datatype i.e. categorical data"
   ]
  },
  {
   "cell_type": "code",
   "execution_count": 31,
   "id": "bed9566d-4c00-45b6-9106-c056cef4497b",
   "metadata": {},
   "outputs": [
    {
     "data": {
      "text/html": [
       "<div>\n",
       "<style scoped>\n",
       "    .dataframe tbody tr th:only-of-type {\n",
       "        vertical-align: middle;\n",
       "    }\n",
       "\n",
       "    .dataframe tbody tr th {\n",
       "        vertical-align: top;\n",
       "    }\n",
       "\n",
       "    .dataframe thead th {\n",
       "        text-align: right;\n",
       "    }\n",
       "</style>\n",
       "<table border=\"1\" class=\"dataframe\">\n",
       "  <thead>\n",
       "    <tr style=\"text-align: right;\">\n",
       "      <th></th>\n",
       "      <th>Year</th>\n",
       "      <th>Selling_Price</th>\n",
       "      <th>Present_Price</th>\n",
       "      <th>Kms_Driven</th>\n",
       "      <th>Owner</th>\n",
       "    </tr>\n",
       "  </thead>\n",
       "  <tbody>\n",
       "    <tr>\n",
       "      <th>count</th>\n",
       "      <td>301.000000</td>\n",
       "      <td>301.000000</td>\n",
       "      <td>301.000000</td>\n",
       "      <td>301.000000</td>\n",
       "      <td>301.000000</td>\n",
       "    </tr>\n",
       "    <tr>\n",
       "      <th>mean</th>\n",
       "      <td>2013.627907</td>\n",
       "      <td>4.661296</td>\n",
       "      <td>7.628472</td>\n",
       "      <td>36947.205980</td>\n",
       "      <td>0.043189</td>\n",
       "    </tr>\n",
       "    <tr>\n",
       "      <th>std</th>\n",
       "      <td>2.891554</td>\n",
       "      <td>5.082812</td>\n",
       "      <td>8.644115</td>\n",
       "      <td>38886.883882</td>\n",
       "      <td>0.247915</td>\n",
       "    </tr>\n",
       "    <tr>\n",
       "      <th>min</th>\n",
       "      <td>2003.000000</td>\n",
       "      <td>0.100000</td>\n",
       "      <td>0.320000</td>\n",
       "      <td>500.000000</td>\n",
       "      <td>0.000000</td>\n",
       "    </tr>\n",
       "    <tr>\n",
       "      <th>25%</th>\n",
       "      <td>2012.000000</td>\n",
       "      <td>0.900000</td>\n",
       "      <td>1.200000</td>\n",
       "      <td>15000.000000</td>\n",
       "      <td>0.000000</td>\n",
       "    </tr>\n",
       "    <tr>\n",
       "      <th>50%</th>\n",
       "      <td>2014.000000</td>\n",
       "      <td>3.600000</td>\n",
       "      <td>6.400000</td>\n",
       "      <td>32000.000000</td>\n",
       "      <td>0.000000</td>\n",
       "    </tr>\n",
       "    <tr>\n",
       "      <th>75%</th>\n",
       "      <td>2016.000000</td>\n",
       "      <td>6.000000</td>\n",
       "      <td>9.900000</td>\n",
       "      <td>48767.000000</td>\n",
       "      <td>0.000000</td>\n",
       "    </tr>\n",
       "    <tr>\n",
       "      <th>max</th>\n",
       "      <td>2018.000000</td>\n",
       "      <td>35.000000</td>\n",
       "      <td>92.600000</td>\n",
       "      <td>500000.000000</td>\n",
       "      <td>3.000000</td>\n",
       "    </tr>\n",
       "  </tbody>\n",
       "</table>\n",
       "</div>"
      ],
      "text/plain": [
       "              Year  Selling_Price  Present_Price     Kms_Driven       Owner\n",
       "count   301.000000     301.000000     301.000000     301.000000  301.000000\n",
       "mean   2013.627907       4.661296       7.628472   36947.205980    0.043189\n",
       "std       2.891554       5.082812       8.644115   38886.883882    0.247915\n",
       "min    2003.000000       0.100000       0.320000     500.000000    0.000000\n",
       "25%    2012.000000       0.900000       1.200000   15000.000000    0.000000\n",
       "50%    2014.000000       3.600000       6.400000   32000.000000    0.000000\n",
       "75%    2016.000000       6.000000       9.900000   48767.000000    0.000000\n",
       "max    2018.000000      35.000000      92.600000  500000.000000    3.000000"
      ]
     },
     "execution_count": 31,
     "metadata": {},
     "output_type": "execute_result"
    }
   ],
   "source": [
    "df.describe()"
   ]
  },
  {
   "cell_type": "markdown",
   "id": "51edac19-c38d-4686-942b-eee334dd1bdf",
   "metadata": {},
   "source": [
    "From the above function we know the concentration of data and its statistical position "
   ]
  },
  {
   "cell_type": "markdown",
   "id": "0a82e670-3be3-4f5d-8a22-4e6637446561",
   "metadata": {},
   "source": [
    "Q1. From which manufacturing year to which manufacturing year vehicles are present in this data ?"
   ]
  },
  {
   "cell_type": "markdown",
   "id": "a6d8f706-8bb1-4dec-9a7c-472531604367",
   "metadata": {},
   "source": [
    "Ans: The dataset contains data from manufacturing year 2003 to 2018."
   ]
  },
  {
   "cell_type": "code",
   "execution_count": 32,
   "id": "cfb18a57-eedc-4643-9a9b-2795595ccb5d",
   "metadata": {},
   "outputs": [
    {
     "name": "stdout",
     "output_type": "stream",
     "text": [
      "From  2003  to  2018\n"
     ]
    }
   ],
   "source": [
    "print(\"From \", df[\"Year\"].min(), \" to \", df[\"Year\"].max())"
   ]
  },
  {
   "cell_type": "markdown",
   "id": "008fe456-2741-45f6-a575-3a8f457aca7d",
   "metadata": {},
   "source": [
    "Q2. What is the lowest price to which a vehicle is sold ?"
   ]
  },
  {
   "cell_type": "markdown",
   "id": "ed73497f-488b-42ec-95ed-9a5d136694be",
   "metadata": {},
   "source": [
    "Ans: The lowest price to which a vehicle was sold is 0.1."
   ]
  },
  {
   "cell_type": "code",
   "execution_count": 33,
   "id": "0c356251-f329-499e-a1a3-6ff836f04a93",
   "metadata": {},
   "outputs": [
    {
     "name": "stdout",
     "output_type": "stream",
     "text": [
      "Lowest price:  0.1\n"
     ]
    }
   ],
   "source": [
    "print(\"Lowest price: \", df[\"Selling_Price\"].min())"
   ]
  },
  {
   "cell_type": "markdown",
   "id": "a45d5b5e-6a39-423c-889d-89a4a04d6e19",
   "metadata": {},
   "source": [
    "Q3. What is the highest price to which a vehicle is sold ?"
   ]
  },
  {
   "cell_type": "markdown",
   "id": "fe2cd1d7-5483-4d2f-9fd9-ab4430539cff",
   "metadata": {},
   "source": [
    "Ans: The highest price to which a vehicle was sold is 35.0."
   ]
  },
  {
   "cell_type": "code",
   "execution_count": 34,
   "id": "2c25dbf7-e5a8-4317-a070-fa210e84acab",
   "metadata": {},
   "outputs": [
    {
     "name": "stdout",
     "output_type": "stream",
     "text": [
      "Highest price:  35.0\n"
     ]
    }
   ],
   "source": [
    "print(\"Highest price: \", df[\"Selling_Price\"].max())"
   ]
  },
  {
   "cell_type": "markdown",
   "id": "a86c3bcc-06ce-42a2-9c33-6bec2e13f8a7",
   "metadata": {},
   "source": [
    "Q4. How many records are there in this data ?"
   ]
  },
  {
   "cell_type": "markdown",
   "id": "f255a3e6-3136-4fc7-8911-ebaac1409ae4",
   "metadata": {},
   "source": [
    "Ans: There are 301 total records in the data ranging from index 0 to 300."
   ]
  },
  {
   "cell_type": "code",
   "execution_count": 35,
   "id": "f49992fd-aebd-46f8-9459-db35b1cfee74",
   "metadata": {},
   "outputs": [
    {
     "name": "stdout",
     "output_type": "stream",
     "text": [
      "<class 'pandas.core.frame.DataFrame'>\n",
      "RangeIndex: 301 entries, 0 to 300\n",
      "Data columns (total 9 columns):\n",
      " #   Column         Non-Null Count  Dtype  \n",
      "---  ------         --------------  -----  \n",
      " 0   Car_Name       301 non-null    object \n",
      " 1   Year           301 non-null    int64  \n",
      " 2   Selling_Price  301 non-null    float64\n",
      " 3   Present_Price  301 non-null    float64\n",
      " 4   Kms_Driven     301 non-null    int64  \n",
      " 5   Fuel_Type      301 non-null    object \n",
      " 6   Seller_Type    301 non-null    object \n",
      " 7   Transmission   301 non-null    object \n",
      " 8   Owner          301 non-null    int64  \n",
      "dtypes: float64(2), int64(3), object(4)\n",
      "memory usage: 21.3+ KB\n"
     ]
    }
   ],
   "source": [
    "df.info()"
   ]
  },
  {
   "cell_type": "markdown",
   "id": "e563910c-87e2-4938-93de-a50b29409e9b",
   "metadata": {},
   "source": [
    "Q5. Are there any missing records in this data?"
   ]
  },
  {
   "cell_type": "markdown",
   "id": "084c2541-5b62-4f82-970d-c42e2fd934a7",
   "metadata": {},
   "source": [
    "Ans: There are no missing records present in this data."
   ]
  },
  {
   "cell_type": "code",
   "execution_count": 36,
   "id": "da245567-d882-47d2-abea-20681a47ae9b",
   "metadata": {},
   "outputs": [
    {
     "data": {
      "text/plain": [
       "Car_Name         0\n",
       "Year             0\n",
       "Selling_Price    0\n",
       "Present_Price    0\n",
       "Kms_Driven       0\n",
       "Fuel_Type        0\n",
       "Seller_Type      0\n",
       "Transmission     0\n",
       "Owner            0\n",
       "dtype: int64"
      ]
     },
     "execution_count": 36,
     "metadata": {},
     "output_type": "execute_result"
    }
   ],
   "source": [
    "df.isnull().sum()"
   ]
  },
  {
   "cell_type": "markdown",
   "id": "024d668b-6b96-4863-b8e1-90e43ace581e",
   "metadata": {},
   "source": [
    "Q6. How many different vehicles are present in this data?"
   ]
  },
  {
   "cell_type": "markdown",
   "id": "20f0656b-fce3-4e46-ba7d-a24cdf7fd8b5",
   "metadata": {},
   "source": [
    "Ans: The data consists of information about 98 different types of vehicles."
   ]
  },
  {
   "cell_type": "code",
   "execution_count": 37,
   "id": "b25110f8-63fd-4efc-a001-5c3012e0d743",
   "metadata": {},
   "outputs": [
    {
     "data": {
      "text/plain": [
       "count      301\n",
       "unique      98\n",
       "top       city\n",
       "freq        26\n",
       "Name: Car_Name, dtype: object"
      ]
     },
     "execution_count": 37,
     "metadata": {},
     "output_type": "execute_result"
    }
   ],
   "source": [
    "df[\"Car_Name\"].describe()"
   ]
  },
  {
   "cell_type": "markdown",
   "id": "7634f057-66e2-4022-ba42-d681ae8f5e9f",
   "metadata": {},
   "source": [
    "Q7. Which is the most sold vehicle in this data?"
   ]
  },
  {
   "cell_type": "markdown",
   "id": "64b548b0-0039-4805-a68f-66d8667764be",
   "metadata": {},
   "source": [
    "Ans: The most sold vehicle in this data is 'city'."
   ]
  },
  {
   "cell_type": "code",
   "execution_count": 38,
   "id": "aff0bc7c-d4c0-48bb-a0e9-9210ed4a1e0a",
   "metadata": {},
   "outputs": [
    {
     "data": {
      "text/plain": [
       "0    city\n",
       "Name: Car_Name, dtype: object"
      ]
     },
     "execution_count": 38,
     "metadata": {},
     "output_type": "execute_result"
    }
   ],
   "source": [
    "df[\"Car_Name\"].mode()"
   ]
  },
  {
   "cell_type": "markdown",
   "id": "b8567804-b276-4a03-b2f6-7e189d7efcdc",
   "metadata": {},
   "source": [
    "Q8. Does the database include any CNG vehicle ? If yes how many of them are there ?"
   ]
  },
  {
   "cell_type": "markdown",
   "id": "afe9461d-100c-48a2-a9e9-ebfe56bb7ca3",
   "metadata": {},
   "source": [
    "Ans: Yes, the database includes 2 CNG vehicles."
   ]
  },
  {
   "cell_type": "code",
   "execution_count": 39,
   "id": "c5666871-2ad8-4d95-8eee-eadc00c671bf",
   "metadata": {},
   "outputs": [
    {
     "data": {
      "text/plain": [
       "Fuel_Type\n",
       "Petrol    239\n",
       "Diesel     60\n",
       "CNG         2\n",
       "Name: count, dtype: int64"
      ]
     },
     "execution_count": 39,
     "metadata": {},
     "output_type": "execute_result"
    }
   ],
   "source": [
    "df['Fuel_Type'].value_counts()"
   ]
  },
  {
   "cell_type": "markdown",
   "id": "36eb221c-185e-4738-9878-0d7cd8b50320",
   "metadata": {},
   "source": [
    "Q9. How many vehicles here are for sell from Individuals directly ?"
   ]
  },
  {
   "cell_type": "markdown",
   "id": "66322195-e3e3-41f2-b950-befae9d31da0",
   "metadata": {},
   "source": [
    "Ans: There are 106 vehicles which are directly being sold by individuals."
   ]
  },
  {
   "cell_type": "code",
   "execution_count": 40,
   "id": "d64d50c7-e548-4729-97aa-91a7a13847f3",
   "metadata": {},
   "outputs": [
    {
     "data": {
      "text/plain": [
       "Seller_Type\n",
       "Dealer        195\n",
       "Individual    106\n",
       "Name: count, dtype: int64"
      ]
     },
     "execution_count": 40,
     "metadata": {},
     "output_type": "execute_result"
    }
   ],
   "source": [
    "df['Seller_Type'].value_counts()"
   ]
  },
  {
   "cell_type": "markdown",
   "id": "cb71fca0-c926-4c4d-9f01-9fcd0528b137",
   "metadata": {},
   "source": [
    "Q10. Does this database contain auto transmission vehicles ? If yes how many of them are there ?"
   ]
  },
  {
   "cell_type": "markdown",
   "id": "8ef667e4-adcb-4ce5-9ae0-446c9dd1af86",
   "metadata": {},
   "source": [
    "Ans: Yes, this database contains 40 auto transmission vehicles."
   ]
  },
  {
   "cell_type": "code",
   "execution_count": 41,
   "id": "2edde93d-04a5-4587-bcee-cc9aa247ad89",
   "metadata": {},
   "outputs": [
    {
     "data": {
      "text/plain": [
       "Transmission\n",
       "Manual       261\n",
       "Automatic     40\n",
       "Name: count, dtype: int64"
      ]
     },
     "execution_count": 41,
     "metadata": {},
     "output_type": "execute_result"
    }
   ],
   "source": [
    "df['Transmission'].value_counts()"
   ]
  },
  {
   "cell_type": "markdown",
   "id": "93e62d53-a832-44c7-9e85-4f287b207118",
   "metadata": {},
   "source": [
    "Q11. How many single person owned vehicles are there in this database ?"
   ]
  },
  {
   "cell_type": "markdown",
   "id": "9cf7a95d-ff61-4da4-a156-57fab64c9861",
   "metadata": {},
   "source": [
    "Ans: There are 290 vehicles are owned by single person."
   ]
  },
  {
   "cell_type": "code",
   "execution_count": 42,
   "id": "478e75a8-5632-48cd-8b65-d0718b1d23c7",
   "metadata": {},
   "outputs": [
    {
     "data": {
      "text/plain": [
       "Owner\n",
       "0    290\n",
       "1     10\n",
       "3      1\n",
       "Name: count, dtype: int64"
      ]
     },
     "execution_count": 42,
     "metadata": {},
     "output_type": "execute_result"
    }
   ],
   "source": [
    "df['Owner'].value_counts()"
   ]
  },
  {
   "cell_type": "markdown",
   "id": "b26e4e5e-7278-4def-a9ab-60c5cebfdb70",
   "metadata": {},
   "source": [
    "Q12. Which is the most and least cost depreciated vehicle in data ?"
   ]
  },
  {
   "cell_type": "markdown",
   "id": "04ac8f25-dc3d-40bb-820b-4ea8b8f917ea",
   "metadata": {},
   "source": [
    "Ans: Least price depricated vehicle in the data- Land Cruiser\n",
    "     Most price depricated vehicle in the data- Honda Activa 4G"
   ]
  },
  {
   "cell_type": "code",
   "execution_count": 43,
   "id": "a2dcecef-021d-4ddf-be6a-b38795a593cb",
   "metadata": {},
   "outputs": [
    {
     "data": {
      "text/plain": [
       "(Car_Name        land cruiser\n",
       " Depreciation            57.6\n",
       " Name: 86, dtype: object,\n",
       " Car_Name        Honda Activa 4G\n",
       " Depreciation               0.03\n",
       " Name: 155, dtype: object)"
      ]
     },
     "execution_count": 43,
     "metadata": {},
     "output_type": "execute_result"
    }
   ],
   "source": [
    "df[\"Depreciation\"] = df[\"Present_Price\"] - df[\"Selling_Price\"]\n",
    "most_depreciated = df.loc[df[\"Depreciation\"].idxmax(), [\"Car_Name\", \"Depreciation\"]]\n",
    "least_depreciated = df.loc[df[\"Depreciation\"].idxmin(), [\"Car_Name\", \"Depreciation\"]]\n",
    "\n",
    "most_depreciated, least_depreciated"
   ]
  },
  {
   "cell_type": "markdown",
   "id": "dee641b5-40b7-4208-b0bc-43e6338e2263",
   "metadata": {},
   "source": [
    "Q13. Which brands of vehicles are less affected by cost depreciation ?"
   ]
  },
  {
   "cell_type": "markdown",
   "id": "a5bbc051-a5d7-481f-a40b-06677cfd45d8",
   "metadata": {},
   "source": [
    "Ans: The 2 brands least affected by cost deprication are UM and Activa."
   ]
  },
  {
   "cell_type": "code",
   "execution_count": 44,
   "id": "34b463d5-9029-4e48-8cdd-49d73956192b",
   "metadata": {},
   "outputs": [
    {
     "data": {
      "text/plain": [
       "Brand\n",
       "UM          0.120000\n",
       "Activa      0.183333\n",
       "TVS         0.242750\n",
       "Mahindra    0.250000\n",
       "Yamaha      0.258750\n",
       "Name: Depreciation, dtype: float64"
      ]
     },
     "execution_count": 44,
     "metadata": {},
     "output_type": "execute_result"
    }
   ],
   "source": [
    "# Extract brand names (assuming the first word in Car_Name is the brand)\n",
    "df[\"Brand\"] = df[\"Car_Name\"].apply(lambda x: x.split()[0])\n",
    "\n",
    "# Calculate average depreciation per brand\n",
    "brand_depreciation = df.groupby(\"Brand\")[\"Depreciation\"].mean().sort_values()\n",
    "\n",
    "# Brands with the least depreciation\n",
    "least_depreciated_brands = brand_depreciation.head(5)\n",
    "least_depreciated_brands"
   ]
  },
  {
   "cell_type": "markdown",
   "id": "c2876eec-1c7b-4783-9f5d-6b6868d4732e",
   "metadata": {},
   "source": [
    "Q14. Are there any factors which you feel affect the cost depreciation?"
   ]
  },
  {
   "cell_type": "markdown",
   "id": "bbbe3497-53e6-497f-a780-cb27a3674bd9",
   "metadata": {},
   "source": [
    "Ans: The factors which affect cost deprication are "
   ]
  },
  {
   "cell_type": "code",
   "execution_count": 45,
   "id": "bb722218-5c31-4944-8f5d-ee9da5a77d64",
   "metadata": {},
   "outputs": [
    {
     "data": {
      "text/html": [
       "<div>\n",
       "<style scoped>\n",
       "    .dataframe tbody tr th:only-of-type {\n",
       "        vertical-align: middle;\n",
       "    }\n",
       "\n",
       "    .dataframe tbody tr th {\n",
       "        vertical-align: top;\n",
       "    }\n",
       "\n",
       "    .dataframe thead th {\n",
       "        text-align: right;\n",
       "    }\n",
       "</style>\n",
       "<table border=\"1\" class=\"dataframe\">\n",
       "  <thead>\n",
       "    <tr style=\"text-align: right;\">\n",
       "      <th></th>\n",
       "      <th>Year</th>\n",
       "      <th>Kms_Driven</th>\n",
       "      <th>Depreciation</th>\n",
       "      <th>Owner</th>\n",
       "    </tr>\n",
       "  </thead>\n",
       "  <tbody>\n",
       "    <tr>\n",
       "      <th>Year</th>\n",
       "      <td>1.000000</td>\n",
       "      <td>-0.524342</td>\n",
       "      <td>-0.333746</td>\n",
       "      <td>-0.182104</td>\n",
       "    </tr>\n",
       "    <tr>\n",
       "      <th>Kms_Driven</th>\n",
       "      <td>-0.524342</td>\n",
       "      <td>1.000000</td>\n",
       "      <td>0.333832</td>\n",
       "      <td>0.089216</td>\n",
       "    </tr>\n",
       "    <tr>\n",
       "      <th>Depreciation</th>\n",
       "      <td>-0.333746</td>\n",
       "      <td>0.333832</td>\n",
       "      <td>1.000000</td>\n",
       "      <td>0.107415</td>\n",
       "    </tr>\n",
       "    <tr>\n",
       "      <th>Owner</th>\n",
       "      <td>-0.182104</td>\n",
       "      <td>0.089216</td>\n",
       "      <td>0.107415</td>\n",
       "      <td>1.000000</td>\n",
       "    </tr>\n",
       "  </tbody>\n",
       "</table>\n",
       "</div>"
      ],
      "text/plain": [
       "                  Year  Kms_Driven  Depreciation     Owner\n",
       "Year          1.000000   -0.524342     -0.333746 -0.182104\n",
       "Kms_Driven   -0.524342    1.000000      0.333832  0.089216\n",
       "Depreciation -0.333746    0.333832      1.000000  0.107415\n",
       "Owner        -0.182104    0.089216      0.107415  1.000000"
      ]
     },
     "execution_count": 45,
     "metadata": {},
     "output_type": "execute_result"
    }
   ],
   "source": [
    "correlation_factors = [\"Year\", \"Kms_Driven\", \"Depreciation\", \"Owner\"]\n",
    "correlation_matrix = df[correlation_factors].corr()\n",
    "\n",
    "correlation_matrix"
   ]
  },
  {
   "cell_type": "markdown",
   "id": "075b9b2d-f53e-4ca2-81a2-17609c207a42",
   "metadata": {},
   "source": [
    "Q15. In general selling price is affected by age of vehicle and distance driven by vehicle , is it observable from data ?"
   ]
  },
  {
   "cell_type": "markdown",
   "id": "fc6de5f3-aafb-4bbc-8fa1-f6bd689c65bd",
   "metadata": {},
   "source": [
    "Ans: Yes, the selling price is affected by the age of the vehicle as the graph shows a descent in the selling price and the correlation table depicts a weak negative correlation.\n",
    "However, no trend is observed between the distance driven by the car and its selling price, and very little correlation is observed. Hence, we can say that the selling price is not affected by the distance driven by the vehicle."
   ]
  },
  {
   "cell_type": "code",
   "execution_count": 7,
   "id": "1c6d2ea4-749a-43bf-962d-4432e91b2b4b",
   "metadata": {},
   "outputs": [
    {
     "data": {
      "image/png": "[encoded data removed]",
      "text/plain": [
       "<Figure size 1200x500 with 1 Axes>"
      ]
     },
     "metadata": {},
     "output_type": "display_data"
    },
    {
     "data": {
      "image/png": "[encoded data removed]",
      "text/plain": [
       "<Figure size 1200x500 with 1 Axes>"
      ]
     },
     "metadata": {},
     "output_type": "display_data"
    },
    {
     "data": {
      "text/html": [
       "<div>\n",
       "<style scoped>\n",
       "    .dataframe tbody tr th:only-of-type {\n",
       "        vertical-align: middle;\n",
       "    }\n",
       "\n",
       "    .dataframe tbody tr th {\n",
       "        vertical-align: top;\n",
       "    }\n",
       "\n",
       "    .dataframe thead th {\n",
       "        text-align: right;\n",
       "    }\n",
       "</style>\n",
       "<table border=\"1\" class=\"dataframe\">\n",
       "  <thead>\n",
       "    <tr style=\"text-align: right;\">\n",
       "      <th></th>\n",
       "      <th>Selling_Price</th>\n",
       "      <th>Vehicle_Age</th>\n",
       "      <th>Kms_Driven</th>\n",
       "    </tr>\n",
       "  </thead>\n",
       "  <tbody>\n",
       "    <tr>\n",
       "      <th>Selling_Price</th>\n",
       "      <td>1.000000</td>\n",
       "      <td>-0.236141</td>\n",
       "      <td>0.029187</td>\n",
       "    </tr>\n",
       "    <tr>\n",
       "      <th>Vehicle_Age</th>\n",
       "      <td>-0.236141</td>\n",
       "      <td>1.000000</td>\n",
       "      <td>0.524342</td>\n",
       "    </tr>\n",
       "    <tr>\n",
       "      <th>Kms_Driven</th>\n",
       "      <td>0.029187</td>\n",
       "      <td>0.524342</td>\n",
       "      <td>1.000000</td>\n",
       "    </tr>\n",
       "  </tbody>\n",
       "</table>\n",
       "</div>"
      ],
      "text/plain": [
       "               Selling_Price  Vehicle_Age  Kms_Driven\n",
       "Selling_Price       1.000000    -0.236141    0.029187\n",
       "Vehicle_Age        -0.236141     1.000000    0.524342\n",
       "Kms_Driven          0.029187     0.524342    1.000000"
      ]
     },
     "execution_count": 7,
     "metadata": {},
     "output_type": "execute_result"
    }
   ],
   "source": [
    "# Calculate vehicle age\n",
    "df[\"Vehicle_Age\"] = 2024 - df[\"Year\"]\n",
    "\n",
    "# Scatter plot: Selling Price vs. Vehicle Age\n",
    "plt.figure(figsize=(12, 5))\n",
    "sns.scatterplot(x=df[\"Vehicle_Age\"], y=df[\"Selling_Price\"], alpha=0.7)\n",
    "plt.xlabel(\"Vehicle Age (Years)\")\n",
    "plt.ylabel(\"Selling Price (Lakhs)\")\n",
    "plt.title(\"Selling Price vs. Vehicle Age\")\n",
    "plt.grid(True)\n",
    "plt.show()\n",
    "\n",
    "# Scatter plot: Selling Price vs. Kms Driven\n",
    "plt.figure(figsize=(12, 5))\n",
    "sns.scatterplot(x=df[\"Kms_Driven\"], y=df[\"Selling_Price\"], alpha=0.7)\n",
    "plt.xlabel(\"Kms Driven\")\n",
    "plt.ylabel(\"Selling Price (Lakhs)\")\n",
    "plt.title(\"Selling Price vs. Kms Driven\")\n",
    "plt.grid(True)\n",
    "plt.show()\n",
    "\n",
    "# Compute correlation values\n",
    "correlations = df[[\"Selling_Price\", \"Vehicle_Age\", \"Kms_Driven\"]].corr()\n",
    "correlations"
   ]
  },
  {
   "cell_type": "markdown",
   "id": "1d9b3aa5-d609-4c6b-b6d5-cb5024f49eab",
   "metadata": {},
   "source": [
    "Q16. Can we get idea about newest vehicles i.e. after 2014 manufactured ?"
   ]
  },
  {
   "cell_type": "markdown",
   "id": "632be10f-8236-4db3-bcd1-6ba53b00668b",
   "metadata": {},
   "source": [
    "Ans: The new vehicles are mostly sold within the price range 1-10 lakhs, however some high end vehicles are sold for better prices.\n",
    "Diesel and Petrol cars dominate the market, with very few CNG options.\n",
    "Average Selling Price: ₹5.77 Lakhs.\n",
    "Average Kms Driven: ~22,000 km.\n",
    "Most cars are between 6-9 years old (2015-2018 models).\n",
    "Most newer cars have had only 0-1 previous owners."
   ]
  },
  {
   "cell_type": "code",
   "execution_count": 8,
   "id": "9df8436e-389c-49ae-b034-b26a67d93f32",
   "metadata": {},
   "outputs": [
    {
     "data": {
      "image/png": "[encoded data removed]",
      "text/plain": [
       "<Figure size 1000x500 with 1 Axes>"
      ]
     },
     "metadata": {},
     "output_type": "display_data"
    },
    {
     "data": {
      "image/png": "[encoded data removed]",
      "text/plain": [
       "<Figure size 1200x500 with 1 Axes>"
      ]
     },
     "metadata": {},
     "output_type": "display_data"
    },
    {
     "name": "stderr",
     "output_type": "stream",
     "text": [
      "C:\\Users\\Arya\\AppData\\Local\\Temp\\ipykernel_50688\\1408258291.py:24: FutureWarning: \n",
      "\n",
      "Passing `palette` without assigning `hue` is deprecated and will be removed in v0.14.0. Assign the `x` variable to `hue` and set `legend=False` for the same effect.\n",
      "\n",
      "  sns.countplot(x=new_cars[\"Fuel_Type\"], palette=\"pastel\")\n"
     ]
    },
    {
     "data": {
      "image/png": "[encoded data removed]",
      "text/plain": [
       "<Figure size 800x400 with 1 Axes>"
      ]
     },
     "metadata": {},
     "output_type": "display_data"
    },
    {
     "data": {
      "text/html": [
       "<div>\n",
       "<style scoped>\n",
       "    .dataframe tbody tr th:only-of-type {\n",
       "        vertical-align: middle;\n",
       "    }\n",
       "\n",
       "    .dataframe tbody tr th {\n",
       "        vertical-align: top;\n",
       "    }\n",
       "\n",
       "    .dataframe thead th {\n",
       "        text-align: right;\n",
       "    }\n",
       "</style>\n",
       "<table border=\"1\" class=\"dataframe\">\n",
       "  <thead>\n",
       "    <tr style=\"text-align: right;\">\n",
       "      <th></th>\n",
       "      <th>Year</th>\n",
       "      <th>Selling_Price</th>\n",
       "      <th>Present_Price</th>\n",
       "      <th>Kms_Driven</th>\n",
       "      <th>Owner</th>\n",
       "      <th>Vehicle_Age</th>\n",
       "    </tr>\n",
       "  </thead>\n",
       "  <tbody>\n",
       "    <tr>\n",
       "      <th>count</th>\n",
       "      <td>147.000000</td>\n",
       "      <td>147.000000</td>\n",
       "      <td>147.000000</td>\n",
       "      <td>147.000000</td>\n",
       "      <td>147.000000</td>\n",
       "      <td>147.000000</td>\n",
       "    </tr>\n",
       "    <tr>\n",
       "      <th>mean</th>\n",
       "      <td>2015.836735</td>\n",
       "      <td>5.774014</td>\n",
       "      <td>7.358980</td>\n",
       "      <td>22073.414966</td>\n",
       "      <td>0.013605</td>\n",
       "      <td>8.163265</td>\n",
       "    </tr>\n",
       "    <tr>\n",
       "      <th>std</th>\n",
       "      <td>0.811230</td>\n",
       "      <td>5.637325</td>\n",
       "      <td>6.992877</td>\n",
       "      <td>15512.249461</td>\n",
       "      <td>0.116242</td>\n",
       "      <td>0.811230</td>\n",
       "    </tr>\n",
       "    <tr>\n",
       "      <th>min</th>\n",
       "      <td>2015.000000</td>\n",
       "      <td>0.180000</td>\n",
       "      <td>0.320000</td>\n",
       "      <td>500.000000</td>\n",
       "      <td>0.000000</td>\n",
       "      <td>6.000000</td>\n",
       "    </tr>\n",
       "    <tr>\n",
       "      <th>25%</th>\n",
       "      <td>2015.000000</td>\n",
       "      <td>1.105000</td>\n",
       "      <td>1.470000</td>\n",
       "      <td>9005.000000</td>\n",
       "      <td>0.000000</td>\n",
       "      <td>8.000000</td>\n",
       "    </tr>\n",
       "    <tr>\n",
       "      <th>50%</th>\n",
       "      <td>2016.000000</td>\n",
       "      <td>5.250000</td>\n",
       "      <td>6.100000</td>\n",
       "      <td>19000.000000</td>\n",
       "      <td>0.000000</td>\n",
       "      <td>8.000000</td>\n",
       "    </tr>\n",
       "    <tr>\n",
       "      <th>75%</th>\n",
       "      <td>2016.000000</td>\n",
       "      <td>7.825000</td>\n",
       "      <td>9.970000</td>\n",
       "      <td>34398.500000</td>\n",
       "      <td>0.000000</td>\n",
       "      <td>9.000000</td>\n",
       "    </tr>\n",
       "    <tr>\n",
       "      <th>max</th>\n",
       "      <td>2018.000000</td>\n",
       "      <td>33.000000</td>\n",
       "      <td>36.230000</td>\n",
       "      <td>68000.000000</td>\n",
       "      <td>1.000000</td>\n",
       "      <td>9.000000</td>\n",
       "    </tr>\n",
       "  </tbody>\n",
       "</table>\n",
       "</div>"
      ],
      "text/plain": [
       "              Year  Selling_Price  Present_Price    Kms_Driven       Owner  \\\n",
       "count   147.000000     147.000000     147.000000    147.000000  147.000000   \n",
       "mean   2015.836735       5.774014       7.358980  22073.414966    0.013605   \n",
       "std       0.811230       5.637325       6.992877  15512.249461    0.116242   \n",
       "min    2015.000000       0.180000       0.320000    500.000000    0.000000   \n",
       "25%    2015.000000       1.105000       1.470000   9005.000000    0.000000   \n",
       "50%    2016.000000       5.250000       6.100000  19000.000000    0.000000   \n",
       "75%    2016.000000       7.825000       9.970000  34398.500000    0.000000   \n",
       "max    2018.000000      33.000000      36.230000  68000.000000    1.000000   \n",
       "\n",
       "       Vehicle_Age  \n",
       "count   147.000000  \n",
       "mean      8.163265  \n",
       "std       0.811230  \n",
       "min       6.000000  \n",
       "25%       8.000000  \n",
       "50%       8.000000  \n",
       "75%       9.000000  \n",
       "max       9.000000  "
      ]
     },
     "execution_count": 8,
     "metadata": {},
     "output_type": "execute_result"
    }
   ],
   "source": [
    "# Filter dataset for newer vehicles (manufactured after 2014)\n",
    "new_cars = df[df[\"Year\"] > 2014]\n",
    "\n",
    "# Plot Selling Price Distribution for Newer Cars\n",
    "plt.figure(figsize=(10, 5))\n",
    "sns.histplot(new_cars[\"Selling_Price\"], bins=15, kde=True, color=\"green\", alpha=0.7)\n",
    "plt.xlabel(\"Selling Price (Lakhs)\")\n",
    "plt.ylabel(\"Count\")\n",
    "plt.title(\"Selling Price Distribution for Newer Vehicles (2015 & Later)\")\n",
    "plt.grid(True)\n",
    "plt.show()\n",
    "\n",
    "# Scatter plot: Selling Price vs. Kms Driven for Newer Cars\n",
    "plt.figure(figsize=(12, 5))\n",
    "sns.scatterplot(x=new_cars[\"Kms_Driven\"], y=new_cars[\"Selling_Price\"], alpha=0.7, color=\"blue\")\n",
    "plt.xlabel(\"Kms Driven\")\n",
    "plt.ylabel(\"Selling Price (Lakhs)\")\n",
    "plt.title(\"Selling Price vs. Kms Driven (Newer Cars: 2015 & Later)\")\n",
    "plt.grid(True)\n",
    "plt.show()\n",
    "\n",
    "# Count of cars by fuel type for newer vehicles\n",
    "plt.figure(figsize=(8, 4))\n",
    "sns.countplot(x=new_cars[\"Fuel_Type\"], palette=\"pastel\")\n",
    "plt.xlabel(\"Fuel Type\")\n",
    "plt.ylabel(\"Count of Cars\")\n",
    "plt.title(\"Fuel Type Distribution for Newer Vehicles (2015 & Later)\")\n",
    "plt.grid(axis=\"y\")\n",
    "plt.show()\n",
    "\n",
    "# Summary statistics for newer cars\n",
    "new_cars.describe()\n"
   ]
  },
  {
   "cell_type": "markdown",
   "id": "6a595168-6556-491b-92d7-714e4edab5c2",
   "metadata": {},
   "source": [
    "Q17. Can we find out data of only two wheelers from this data ?\n"
   ]
  },
  {
   "cell_type": "markdown",
   "id": "69564ea9-7e4a-45e1-ad8c-dd9fab03e49c",
   "metadata": {},
   "source": [
    "Ans: Yes, we will filter the data based on price range (in this case, let's consider vehicles with a selling price < 3.5 as bikes) and then remove the exceptions by manual analysis."
   ]
  },
  {
   "cell_type": "code",
   "execution_count": 10,
   "id": "34163fd7-f65e-49c9-b6e6-693f077b96d8",
   "metadata": {},
   "outputs": [
    {
     "data": {
      "text/html": [
       "<div>\n",
       "<style scoped>\n",
       "    .dataframe tbody tr th:only-of-type {\n",
       "        vertical-align: middle;\n",
       "    }\n",
       "\n",
       "    .dataframe tbody tr th {\n",
       "        vertical-align: top;\n",
       "    }\n",
       "\n",
       "    .dataframe thead th {\n",
       "        text-align: right;\n",
       "    }\n",
       "</style>\n",
       "<table border=\"1\" class=\"dataframe\">\n",
       "  <thead>\n",
       "    <tr style=\"text-align: right;\">\n",
       "      <th></th>\n",
       "      <th>Car_Name</th>\n",
       "      <th>Year</th>\n",
       "      <th>Selling_Price</th>\n",
       "      <th>Present_Price</th>\n",
       "      <th>Kms_Driven</th>\n",
       "      <th>Fuel_Type</th>\n",
       "      <th>Seller_Type</th>\n",
       "      <th>Transmission</th>\n",
       "      <th>Owner</th>\n",
       "      <th>Vehicle_Age</th>\n",
       "    </tr>\n",
       "  </thead>\n",
       "  <tbody>\n",
       "    <tr>\n",
       "      <th>0</th>\n",
       "      <td>alto k10</td>\n",
       "      <td>2014</td>\n",
       "      <td>2.50</td>\n",
       "      <td>3.46</td>\n",
       "      <td>45280</td>\n",
       "      <td>Petrol</td>\n",
       "      <td>Dealer</td>\n",
       "      <td>Manual</td>\n",
       "      <td>0</td>\n",
       "      <td>10</td>\n",
       "    </tr>\n",
       "    <tr>\n",
       "      <th>1</th>\n",
       "      <td>800</td>\n",
       "      <td>2003</td>\n",
       "      <td>0.35</td>\n",
       "      <td>2.28</td>\n",
       "      <td>127000</td>\n",
       "      <td>Petrol</td>\n",
       "      <td>Individual</td>\n",
       "      <td>Manual</td>\n",
       "      <td>0</td>\n",
       "      <td>21</td>\n",
       "    </tr>\n",
       "    <tr>\n",
       "      <th>2</th>\n",
       "      <td>omni</td>\n",
       "      <td>2012</td>\n",
       "      <td>1.25</td>\n",
       "      <td>2.69</td>\n",
       "      <td>50000</td>\n",
       "      <td>Petrol</td>\n",
       "      <td>Dealer</td>\n",
       "      <td>Manual</td>\n",
       "      <td>0</td>\n",
       "      <td>12</td>\n",
       "    </tr>\n",
       "    <tr>\n",
       "      <th>3</th>\n",
       "      <td>Royal Enfield Thunder 500</td>\n",
       "      <td>2016</td>\n",
       "      <td>1.75</td>\n",
       "      <td>1.90</td>\n",
       "      <td>3000</td>\n",
       "      <td>Petrol</td>\n",
       "      <td>Individual</td>\n",
       "      <td>Manual</td>\n",
       "      <td>0</td>\n",
       "      <td>8</td>\n",
       "    </tr>\n",
       "    <tr>\n",
       "      <th>4</th>\n",
       "      <td>UM Renegade Mojave</td>\n",
       "      <td>2017</td>\n",
       "      <td>1.70</td>\n",
       "      <td>1.82</td>\n",
       "      <td>1400</td>\n",
       "      <td>Petrol</td>\n",
       "      <td>Individual</td>\n",
       "      <td>Manual</td>\n",
       "      <td>0</td>\n",
       "      <td>7</td>\n",
       "    </tr>\n",
       "  </tbody>\n",
       "</table>\n",
       "</div>"
      ],
      "text/plain": [
       "                    Car_Name  Year  Selling_Price  Present_Price  Kms_Driven  \\\n",
       "0                   alto k10  2014           2.50           3.46       45280   \n",
       "1                        800  2003           0.35           2.28      127000   \n",
       "2                       omni  2012           1.25           2.69       50000   \n",
       "3  Royal Enfield Thunder 500  2016           1.75           1.90        3000   \n",
       "4         UM Renegade Mojave  2017           1.70           1.82        1400   \n",
       "\n",
       "  Fuel_Type Seller_Type Transmission  Owner  Vehicle_Age  \n",
       "0    Petrol      Dealer       Manual      0           10  \n",
       "1    Petrol  Individual       Manual      0           21  \n",
       "2    Petrol      Dealer       Manual      0           12  \n",
       "3    Petrol  Individual       Manual      0            8  \n",
       "4    Petrol  Individual       Manual      0            7  "
      ]
     },
     "execution_count": 10,
     "metadata": {},
     "output_type": "execute_result"
    }
   ],
   "source": [
    "#Check out two wheelers from data of vehicles\n",
    "two_wheelers = df[df[\"Present_Price\"] < 3.5]\n",
    "two_wheelers.reset_index(drop = True, inplace = True)\n",
    "two_wheelers.head()"
   ]
  },
  {
   "cell_type": "code",
   "execution_count": 11,
   "id": "257ce05b-f33b-4ff7-b700-1e640941aebb",
   "metadata": {},
   "outputs": [
    {
     "data": {
      "text/html": [
       "<div>\n",
       "<style scoped>\n",
       "    .dataframe tbody tr th:only-of-type {\n",
       "        vertical-align: middle;\n",
       "    }\n",
       "\n",
       "    .dataframe tbody tr th {\n",
       "        vertical-align: top;\n",
       "    }\n",
       "\n",
       "    .dataframe thead th {\n",
       "        text-align: right;\n",
       "    }\n",
       "</style>\n",
       "<table border=\"1\" class=\"dataframe\">\n",
       "  <thead>\n",
       "    <tr style=\"text-align: right;\">\n",
       "      <th></th>\n",
       "      <th>Car_Name</th>\n",
       "      <th>Year</th>\n",
       "      <th>Selling_Price</th>\n",
       "      <th>Present_Price</th>\n",
       "      <th>Kms_Driven</th>\n",
       "      <th>Fuel_Type</th>\n",
       "      <th>Seller_Type</th>\n",
       "      <th>Transmission</th>\n",
       "      <th>Owner</th>\n",
       "      <th>Vehicle_Age</th>\n",
       "    </tr>\n",
       "  </thead>\n",
       "  <tbody>\n",
       "    <tr>\n",
       "      <th>0</th>\n",
       "      <td>Royal Enfield Thunder 500</td>\n",
       "      <td>2016</td>\n",
       "      <td>1.75</td>\n",
       "      <td>1.90</td>\n",
       "      <td>3000</td>\n",
       "      <td>Petrol</td>\n",
       "      <td>Individual</td>\n",
       "      <td>Manual</td>\n",
       "      <td>0</td>\n",
       "      <td>8</td>\n",
       "    </tr>\n",
       "    <tr>\n",
       "      <th>1</th>\n",
       "      <td>UM Renegade Mojave</td>\n",
       "      <td>2017</td>\n",
       "      <td>1.70</td>\n",
       "      <td>1.82</td>\n",
       "      <td>1400</td>\n",
       "      <td>Petrol</td>\n",
       "      <td>Individual</td>\n",
       "      <td>Manual</td>\n",
       "      <td>0</td>\n",
       "      <td>7</td>\n",
       "    </tr>\n",
       "    <tr>\n",
       "      <th>2</th>\n",
       "      <td>KTM RC200</td>\n",
       "      <td>2017</td>\n",
       "      <td>1.65</td>\n",
       "      <td>1.78</td>\n",
       "      <td>4000</td>\n",
       "      <td>Petrol</td>\n",
       "      <td>Individual</td>\n",
       "      <td>Manual</td>\n",
       "      <td>0</td>\n",
       "      <td>7</td>\n",
       "    </tr>\n",
       "    <tr>\n",
       "      <th>3</th>\n",
       "      <td>Bajaj Dominar 400</td>\n",
       "      <td>2017</td>\n",
       "      <td>1.45</td>\n",
       "      <td>1.60</td>\n",
       "      <td>1200</td>\n",
       "      <td>Petrol</td>\n",
       "      <td>Individual</td>\n",
       "      <td>Manual</td>\n",
       "      <td>0</td>\n",
       "      <td>7</td>\n",
       "    </tr>\n",
       "    <tr>\n",
       "      <th>4</th>\n",
       "      <td>Royal Enfield Classic 350</td>\n",
       "      <td>2017</td>\n",
       "      <td>1.35</td>\n",
       "      <td>1.47</td>\n",
       "      <td>4100</td>\n",
       "      <td>Petrol</td>\n",
       "      <td>Individual</td>\n",
       "      <td>Manual</td>\n",
       "      <td>0</td>\n",
       "      <td>7</td>\n",
       "    </tr>\n",
       "  </tbody>\n",
       "</table>\n",
       "</div>"
      ],
      "text/plain": [
       "                    Car_Name  Year  Selling_Price  Present_Price  Kms_Driven  \\\n",
       "0  Royal Enfield Thunder 500  2016           1.75           1.90        3000   \n",
       "1         UM Renegade Mojave  2017           1.70           1.82        1400   \n",
       "2                  KTM RC200  2017           1.65           1.78        4000   \n",
       "3          Bajaj Dominar 400  2017           1.45           1.60        1200   \n",
       "4  Royal Enfield Classic 350  2017           1.35           1.47        4100   \n",
       "\n",
       "  Fuel_Type Seller_Type Transmission  Owner  Vehicle_Age  \n",
       "0    Petrol  Individual       Manual      0            8  \n",
       "1    Petrol  Individual       Manual      0            7  \n",
       "2    Petrol  Individual       Manual      0            7  \n",
       "3    Petrol  Individual       Manual      0            7  \n",
       "4    Petrol  Individual       Manual      0            7  "
      ]
     },
     "execution_count": 11,
     "metadata": {},
     "output_type": "execute_result"
    }
   ],
   "source": [
    "#remove the exceptions\n",
    "two_wheelers = two_wheelers.loc[two_wheelers.Car_Name != \"alto k10\"]\n",
    "two_wheelers = two_wheelers.loc[two_wheelers.Car_Name != \"800\"]\n",
    "two_wheelers = two_wheelers.loc[two_wheelers.Car_Name != \"omni\"]\n",
    "two_wheelers.reset_index(drop = True, inplace = True)\n",
    "two_wheelers.head()"
   ]
  },
  {
   "cell_type": "markdown",
   "id": "4f6008b2-e54e-4ad4-bb4f-cfced1ae8d11",
   "metadata": {},
   "source": [
    "Q18. Which is the oldest bike sold here?"
   ]
  },
  {
   "cell_type": "markdown",
   "id": "ce7c8e3a-8871-4e54-962a-d3b350809bcc",
   "metadata": {},
   "source": [
    "Ans: The oldest bike sold here is Hero Super Splendor manufactured in the year 2005."
   ]
  },
  {
   "cell_type": "code",
   "execution_count": 12,
   "id": "0cab9d8e-7356-4dc6-9813-dcf3c1fbc4b0",
   "metadata": {},
   "outputs": [
    {
     "data": {
      "text/html": [
       "<div>\n",
       "<style scoped>\n",
       "    .dataframe tbody tr th:only-of-type {\n",
       "        vertical-align: middle;\n",
       "    }\n",
       "\n",
       "    .dataframe tbody tr th {\n",
       "        vertical-align: top;\n",
       "    }\n",
       "\n",
       "    .dataframe thead th {\n",
       "        text-align: right;\n",
       "    }\n",
       "</style>\n",
       "<table border=\"1\" class=\"dataframe\">\n",
       "  <thead>\n",
       "    <tr style=\"text-align: right;\">\n",
       "      <th></th>\n",
       "      <th>Car_Name</th>\n",
       "      <th>Year</th>\n",
       "      <th>Selling_Price</th>\n",
       "      <th>Present_Price</th>\n",
       "      <th>Kms_Driven</th>\n",
       "      <th>Fuel_Type</th>\n",
       "      <th>Seller_Type</th>\n",
       "      <th>Transmission</th>\n",
       "      <th>Owner</th>\n",
       "      <th>Vehicle_Age</th>\n",
       "    </tr>\n",
       "  </thead>\n",
       "  <tbody>\n",
       "    <tr>\n",
       "      <th>89</th>\n",
       "      <td>Hero Super Splendor</td>\n",
       "      <td>2005</td>\n",
       "      <td>0.2</td>\n",
       "      <td>0.57</td>\n",
       "      <td>55000</td>\n",
       "      <td>Petrol</td>\n",
       "      <td>Individual</td>\n",
       "      <td>Manual</td>\n",
       "      <td>0</td>\n",
       "      <td>19</td>\n",
       "    </tr>\n",
       "  </tbody>\n",
       "</table>\n",
       "</div>"
      ],
      "text/plain": [
       "               Car_Name  Year  Selling_Price  Present_Price  Kms_Driven  \\\n",
       "89  Hero Super Splendor  2005            0.2           0.57       55000   \n",
       "\n",
       "   Fuel_Type Seller_Type Transmission  Owner  Vehicle_Age  \n",
       "89    Petrol  Individual       Manual      0           19  "
      ]
     },
     "execution_count": 12,
     "metadata": {},
     "output_type": "execute_result"
    }
   ],
   "source": [
    "two_wheelers.loc[two_wheelers.Year == two_wheelers.Year.min()]"
   ]
  },
  {
   "cell_type": "markdown",
   "id": "0cd1d832-f9d6-46bb-bba7-25b077acc976",
   "metadata": {},
   "source": [
    "Q19. Which is the newest bike sold here?"
   ]
  },
  {
   "cell_type": "markdown",
   "id": "0cb3c207-e428-4662-a259-98c28d62ca45",
   "metadata": {},
   "source": [
    "Ans: The newest bikes sold here consist of brands Bajaj, Royal Enfield, Honda, Yamaha and TVS."
   ]
  },
  {
   "cell_type": "code",
   "execution_count": 14,
   "id": "b7373d8d-df17-48d4-83d7-3647287e998d",
   "metadata": {},
   "outputs": [
    {
     "data": {
      "text/html": [
       "<div>\n",
       "<style scoped>\n",
       "    .dataframe tbody tr th:only-of-type {\n",
       "        vertical-align: middle;\n",
       "    }\n",
       "\n",
       "    .dataframe tbody tr th {\n",
       "        vertical-align: top;\n",
       "    }\n",
       "\n",
       "    .dataframe thead th {\n",
       "        text-align: right;\n",
       "    }\n",
       "</style>\n",
       "<table border=\"1\" class=\"dataframe\">\n",
       "  <thead>\n",
       "    <tr style=\"text-align: right;\">\n",
       "      <th></th>\n",
       "      <th>Car_Name</th>\n",
       "      <th>Year</th>\n",
       "      <th>Selling_Price</th>\n",
       "      <th>Present_Price</th>\n",
       "      <th>Kms_Driven</th>\n",
       "      <th>Fuel_Type</th>\n",
       "      <th>Seller_Type</th>\n",
       "      <th>Transmission</th>\n",
       "      <th>Owner</th>\n",
       "      <th>Vehicle_Age</th>\n",
       "    </tr>\n",
       "  </thead>\n",
       "  <tbody>\n",
       "    <tr>\n",
       "      <th>1</th>\n",
       "      <td>UM Renegade Mojave</td>\n",
       "      <td>2017</td>\n",
       "      <td>1.70</td>\n",
       "      <td>1.82</td>\n",
       "      <td>1400</td>\n",
       "      <td>Petrol</td>\n",
       "      <td>Individual</td>\n",
       "      <td>Manual</td>\n",
       "      <td>0</td>\n",
       "      <td>7</td>\n",
       "    </tr>\n",
       "    <tr>\n",
       "      <th>2</th>\n",
       "      <td>KTM RC200</td>\n",
       "      <td>2017</td>\n",
       "      <td>1.65</td>\n",
       "      <td>1.78</td>\n",
       "      <td>4000</td>\n",
       "      <td>Petrol</td>\n",
       "      <td>Individual</td>\n",
       "      <td>Manual</td>\n",
       "      <td>0</td>\n",
       "      <td>7</td>\n",
       "    </tr>\n",
       "    <tr>\n",
       "      <th>3</th>\n",
       "      <td>Bajaj Dominar 400</td>\n",
       "      <td>2017</td>\n",
       "      <td>1.45</td>\n",
       "      <td>1.60</td>\n",
       "      <td>1200</td>\n",
       "      <td>Petrol</td>\n",
       "      <td>Individual</td>\n",
       "      <td>Manual</td>\n",
       "      <td>0</td>\n",
       "      <td>7</td>\n",
       "    </tr>\n",
       "    <tr>\n",
       "      <th>4</th>\n",
       "      <td>Royal Enfield Classic 350</td>\n",
       "      <td>2017</td>\n",
       "      <td>1.35</td>\n",
       "      <td>1.47</td>\n",
       "      <td>4100</td>\n",
       "      <td>Petrol</td>\n",
       "      <td>Individual</td>\n",
       "      <td>Manual</td>\n",
       "      <td>0</td>\n",
       "      <td>7</td>\n",
       "    </tr>\n",
       "    <tr>\n",
       "      <th>9</th>\n",
       "      <td>Royal Enfield Classic 350</td>\n",
       "      <td>2017</td>\n",
       "      <td>1.20</td>\n",
       "      <td>1.47</td>\n",
       "      <td>11000</td>\n",
       "      <td>Petrol</td>\n",
       "      <td>Individual</td>\n",
       "      <td>Manual</td>\n",
       "      <td>0</td>\n",
       "      <td>7</td>\n",
       "    </tr>\n",
       "    <tr>\n",
       "      <th>26</th>\n",
       "      <td>Bajaj Avenger 220</td>\n",
       "      <td>2017</td>\n",
       "      <td>0.90</td>\n",
       "      <td>0.95</td>\n",
       "      <td>1300</td>\n",
       "      <td>Petrol</td>\n",
       "      <td>Individual</td>\n",
       "      <td>Manual</td>\n",
       "      <td>0</td>\n",
       "      <td>7</td>\n",
       "    </tr>\n",
       "    <tr>\n",
       "      <th>28</th>\n",
       "      <td>Honda CB Hornet 160R</td>\n",
       "      <td>2017</td>\n",
       "      <td>0.80</td>\n",
       "      <td>0.87</td>\n",
       "      <td>3000</td>\n",
       "      <td>Petrol</td>\n",
       "      <td>Individual</td>\n",
       "      <td>Manual</td>\n",
       "      <td>0</td>\n",
       "      <td>7</td>\n",
       "    </tr>\n",
       "    <tr>\n",
       "      <th>29</th>\n",
       "      <td>Yamaha FZ S V 2.0</td>\n",
       "      <td>2017</td>\n",
       "      <td>0.78</td>\n",
       "      <td>0.84</td>\n",
       "      <td>5000</td>\n",
       "      <td>Petrol</td>\n",
       "      <td>Individual</td>\n",
       "      <td>Manual</td>\n",
       "      <td>0</td>\n",
       "      <td>7</td>\n",
       "    </tr>\n",
       "    <tr>\n",
       "      <th>30</th>\n",
       "      <td>Honda CB Hornet 160R</td>\n",
       "      <td>2017</td>\n",
       "      <td>0.75</td>\n",
       "      <td>0.87</td>\n",
       "      <td>11000</td>\n",
       "      <td>Petrol</td>\n",
       "      <td>Individual</td>\n",
       "      <td>Manual</td>\n",
       "      <td>0</td>\n",
       "      <td>7</td>\n",
       "    </tr>\n",
       "    <tr>\n",
       "      <th>32</th>\n",
       "      <td>Bajaj Avenger 220</td>\n",
       "      <td>2017</td>\n",
       "      <td>0.75</td>\n",
       "      <td>0.95</td>\n",
       "      <td>3500</td>\n",
       "      <td>Petrol</td>\n",
       "      <td>Individual</td>\n",
       "      <td>Manual</td>\n",
       "      <td>0</td>\n",
       "      <td>7</td>\n",
       "    </tr>\n",
       "    <tr>\n",
       "      <th>34</th>\n",
       "      <td>TVS Apache RTR 160</td>\n",
       "      <td>2017</td>\n",
       "      <td>0.65</td>\n",
       "      <td>0.81</td>\n",
       "      <td>11800</td>\n",
       "      <td>Petrol</td>\n",
       "      <td>Individual</td>\n",
       "      <td>Manual</td>\n",
       "      <td>0</td>\n",
       "      <td>7</td>\n",
       "    </tr>\n",
       "    <tr>\n",
       "      <th>55</th>\n",
       "      <td>Honda Activa 4G</td>\n",
       "      <td>2017</td>\n",
       "      <td>0.48</td>\n",
       "      <td>0.51</td>\n",
       "      <td>4300</td>\n",
       "      <td>Petrol</td>\n",
       "      <td>Individual</td>\n",
       "      <td>Automatic</td>\n",
       "      <td>0</td>\n",
       "      <td>7</td>\n",
       "    </tr>\n",
       "    <tr>\n",
       "      <th>56</th>\n",
       "      <td>TVS Sport</td>\n",
       "      <td>2017</td>\n",
       "      <td>0.48</td>\n",
       "      <td>0.52</td>\n",
       "      <td>15000</td>\n",
       "      <td>Petrol</td>\n",
       "      <td>Individual</td>\n",
       "      <td>Manual</td>\n",
       "      <td>0</td>\n",
       "      <td>7</td>\n",
       "    </tr>\n",
       "    <tr>\n",
       "      <th>58</th>\n",
       "      <td>Honda Dream Yuga</td>\n",
       "      <td>2017</td>\n",
       "      <td>0.48</td>\n",
       "      <td>0.54</td>\n",
       "      <td>8600</td>\n",
       "      <td>Petrol</td>\n",
       "      <td>Individual</td>\n",
       "      <td>Manual</td>\n",
       "      <td>0</td>\n",
       "      <td>7</td>\n",
       "    </tr>\n",
       "    <tr>\n",
       "      <th>59</th>\n",
       "      <td>Honda Activa 4G</td>\n",
       "      <td>2017</td>\n",
       "      <td>0.45</td>\n",
       "      <td>0.51</td>\n",
       "      <td>4000</td>\n",
       "      <td>Petrol</td>\n",
       "      <td>Individual</td>\n",
       "      <td>Automatic</td>\n",
       "      <td>0</td>\n",
       "      <td>7</td>\n",
       "    </tr>\n",
       "    <tr>\n",
       "      <th>73</th>\n",
       "      <td>Activa 4g</td>\n",
       "      <td>2017</td>\n",
       "      <td>0.40</td>\n",
       "      <td>0.51</td>\n",
       "      <td>1300</td>\n",
       "      <td>Petrol</td>\n",
       "      <td>Individual</td>\n",
       "      <td>Automatic</td>\n",
       "      <td>0</td>\n",
       "      <td>7</td>\n",
       "    </tr>\n",
       "  </tbody>\n",
       "</table>\n",
       "</div>"
      ],
      "text/plain": [
       "                     Car_Name  Year  Selling_Price  Present_Price  Kms_Driven  \\\n",
       "1          UM Renegade Mojave  2017           1.70           1.82        1400   \n",
       "2                   KTM RC200  2017           1.65           1.78        4000   \n",
       "3           Bajaj Dominar 400  2017           1.45           1.60        1200   \n",
       "4   Royal Enfield Classic 350  2017           1.35           1.47        4100   \n",
       "9   Royal Enfield Classic 350  2017           1.20           1.47       11000   \n",
       "26          Bajaj Avenger 220  2017           0.90           0.95        1300   \n",
       "28       Honda CB Hornet 160R  2017           0.80           0.87        3000   \n",
       "29          Yamaha FZ S V 2.0  2017           0.78           0.84        5000   \n",
       "30       Honda CB Hornet 160R  2017           0.75           0.87       11000   \n",
       "32          Bajaj Avenger 220  2017           0.75           0.95        3500   \n",
       "34         TVS Apache RTR 160  2017           0.65           0.81       11800   \n",
       "55            Honda Activa 4G  2017           0.48           0.51        4300   \n",
       "56                 TVS Sport   2017           0.48           0.52       15000   \n",
       "58          Honda Dream Yuga   2017           0.48           0.54        8600   \n",
       "59            Honda Activa 4G  2017           0.45           0.51        4000   \n",
       "73                  Activa 4g  2017           0.40           0.51        1300   \n",
       "\n",
       "   Fuel_Type Seller_Type Transmission  Owner  Vehicle_Age  \n",
       "1     Petrol  Individual       Manual      0            7  \n",
       "2     Petrol  Individual       Manual      0            7  \n",
       "3     Petrol  Individual       Manual      0            7  \n",
       "4     Petrol  Individual       Manual      0            7  \n",
       "9     Petrol  Individual       Manual      0            7  \n",
       "26    Petrol  Individual       Manual      0            7  \n",
       "28    Petrol  Individual       Manual      0            7  \n",
       "29    Petrol  Individual       Manual      0            7  \n",
       "30    Petrol  Individual       Manual      0            7  \n",
       "32    Petrol  Individual       Manual      0            7  \n",
       "34    Petrol  Individual       Manual      0            7  \n",
       "55    Petrol  Individual    Automatic      0            7  \n",
       "56    Petrol  Individual       Manual      0            7  \n",
       "58    Petrol  Individual       Manual      0            7  \n",
       "59    Petrol  Individual    Automatic      0            7  \n",
       "73    Petrol  Individual    Automatic      0            7  "
      ]
     },
     "execution_count": 14,
     "metadata": {},
     "output_type": "execute_result"
    }
   ],
   "source": [
    "two_wheelers.loc[two_wheelers.Year == two_wheelers.Year.max()]"
   ]
  },
  {
   "cell_type": "markdown",
   "id": "e3cd85f1-571e-4f3c-9ef8-8fbb06236040",
   "metadata": {},
   "source": [
    "Q20. Which is the most sold bike here?"
   ]
  },
  {
   "cell_type": "markdown",
   "id": "c74620dd-18c1-4b61-9bcb-2d0c524f5407",
   "metadata": {},
   "source": [
    "Ans: The most sold bike here is Royal Enfield Classic 350."
   ]
  },
  {
   "cell_type": "code",
   "execution_count": 15,
   "id": "d6c8618a-bc9d-470d-be6d-aa974404c0a1",
   "metadata": {},
   "outputs": [
    {
     "data": {
      "text/plain": [
       "Car_Name\n",
       "Royal Enfield Classic 350    7\n",
       "Bajaj Pulsar 150             4\n",
       "Royal Enfield Thunder 350    4\n",
       "Bajaj Pulsar NS 200          3\n",
       "TVS Apache RTR 160           3\n",
       "                            ..\n",
       "TVS Sport                    1\n",
       "Honda Dream Yuga             1\n",
       "Bajaj Avenger Street 220     1\n",
       "Honda CB Trigger             1\n",
       "Bajaj  ct 100                1\n",
       "Name: count, Length: 61, dtype: int64"
      ]
     },
     "execution_count": 15,
     "metadata": {},
     "output_type": "execute_result"
    }
   ],
   "source": [
    "two_wheelers['Car_Name'].value_counts()"
   ]
  },
  {
   "cell_type": "markdown",
   "id": "a4edb458-e623-487b-b21a-2fad13d2d46d",
   "metadata": {},
   "source": [
    "Q21. Do you find any deal in two wheelers which exceeded the general expectation ? Can you find reason for it ?"
   ]
  },
  {
   "cell_type": "markdown",
   "id": "d23ba2bf-913e-4d59-a403-d71548f787ca",
   "metadata": {},
   "source": [
    "Ans: Yes there are 3 vehicles which have exceptionally good deals. A few of the reasons may include them being the newest models with recent manufacturing years as well as relatively less usage in terms of distance driven."
   ]
  },
  {
   "cell_type": "code",
   "execution_count": 16,
   "id": "4f49e40b-efd8-4660-b2dc-bf2212550974",
   "metadata": {},
   "outputs": [
    {
     "data": {
      "image/png": "[encoded data removed]",
      "text/plain": [
       "<Figure size 640x480 with 1 Axes>"
      ]
     },
     "metadata": {},
     "output_type": "display_data"
    }
   ],
   "source": [
    "plt.boxplot(two_wheelers.Selling_Price)\n",
    "plt.show()"
   ]
  },
  {
   "cell_type": "code",
   "execution_count": 17,
   "id": "6cf7c52f-3fff-4bd6-af8e-caf610ff562e",
   "metadata": {},
   "outputs": [
    {
     "data": {
      "text/html": [
       "<div>\n",
       "<style scoped>\n",
       "    .dataframe tbody tr th:only-of-type {\n",
       "        vertical-align: middle;\n",
       "    }\n",
       "\n",
       "    .dataframe tbody tr th {\n",
       "        vertical-align: top;\n",
       "    }\n",
       "\n",
       "    .dataframe thead th {\n",
       "        text-align: right;\n",
       "    }\n",
       "</style>\n",
       "<table border=\"1\" class=\"dataframe\">\n",
       "  <thead>\n",
       "    <tr style=\"text-align: right;\">\n",
       "      <th></th>\n",
       "      <th>Car_Name</th>\n",
       "      <th>Year</th>\n",
       "      <th>Selling_Price</th>\n",
       "      <th>Present_Price</th>\n",
       "      <th>Kms_Driven</th>\n",
       "      <th>Fuel_Type</th>\n",
       "      <th>Seller_Type</th>\n",
       "      <th>Transmission</th>\n",
       "      <th>Owner</th>\n",
       "      <th>Vehicle_Age</th>\n",
       "    </tr>\n",
       "  </thead>\n",
       "  <tbody>\n",
       "    <tr>\n",
       "      <th>0</th>\n",
       "      <td>Royal Enfield Thunder 500</td>\n",
       "      <td>2016</td>\n",
       "      <td>1.75</td>\n",
       "      <td>1.90</td>\n",
       "      <td>3000</td>\n",
       "      <td>Petrol</td>\n",
       "      <td>Individual</td>\n",
       "      <td>Manual</td>\n",
       "      <td>0</td>\n",
       "      <td>8</td>\n",
       "    </tr>\n",
       "    <tr>\n",
       "      <th>1</th>\n",
       "      <td>UM Renegade Mojave</td>\n",
       "      <td>2017</td>\n",
       "      <td>1.70</td>\n",
       "      <td>1.82</td>\n",
       "      <td>1400</td>\n",
       "      <td>Petrol</td>\n",
       "      <td>Individual</td>\n",
       "      <td>Manual</td>\n",
       "      <td>0</td>\n",
       "      <td>7</td>\n",
       "    </tr>\n",
       "    <tr>\n",
       "      <th>2</th>\n",
       "      <td>KTM RC200</td>\n",
       "      <td>2017</td>\n",
       "      <td>1.65</td>\n",
       "      <td>1.78</td>\n",
       "      <td>4000</td>\n",
       "      <td>Petrol</td>\n",
       "      <td>Individual</td>\n",
       "      <td>Manual</td>\n",
       "      <td>0</td>\n",
       "      <td>7</td>\n",
       "    </tr>\n",
       "  </tbody>\n",
       "</table>\n",
       "</div>"
      ],
      "text/plain": [
       "                    Car_Name  Year  Selling_Price  Present_Price  Kms_Driven  \\\n",
       "0  Royal Enfield Thunder 500  2016           1.75           1.90        3000   \n",
       "1         UM Renegade Mojave  2017           1.70           1.82        1400   \n",
       "2                  KTM RC200  2017           1.65           1.78        4000   \n",
       "\n",
       "  Fuel_Type Seller_Type Transmission  Owner  Vehicle_Age  \n",
       "0    Petrol  Individual       Manual      0            8  \n",
       "1    Petrol  Individual       Manual      0            7  \n",
       "2    Petrol  Individual       Manual      0            7  "
      ]
     },
     "execution_count": 17,
     "metadata": {},
     "output_type": "execute_result"
    }
   ],
   "source": [
    "two_wheelers[two_wheelers.Selling_Price > 1.6]"
   ]
  },
  {
   "cell_type": "markdown",
   "id": "0a3c70be-cf4c-44ce-ba08-f18c291a377b",
   "metadata": {},
   "source": [
    "Q22. Can we find out data of only cars from this data ?"
   ]
  },
  {
   "cell_type": "markdown",
   "id": "a4fd283c-2ce4-4a8c-b3c2-7c65f4db8022",
   "metadata": {},
   "source": [
    "Ans: Yes, We will filter the cars based on selling price greater than 2.0 and manually remove exceptions if any."
   ]
  },
  {
   "cell_type": "code",
   "execution_count": 19,
   "id": "682cb22c-82ad-4d79-900b-acbac5e11ed4",
   "metadata": {},
   "outputs": [
    {
     "data": {
      "text/html": [
       "<div>\n",
       "<style scoped>\n",
       "    .dataframe tbody tr th:only-of-type {\n",
       "        vertical-align: middle;\n",
       "    }\n",
       "\n",
       "    .dataframe tbody tr th {\n",
       "        vertical-align: top;\n",
       "    }\n",
       "\n",
       "    .dataframe thead th {\n",
       "        text-align: right;\n",
       "    }\n",
       "</style>\n",
       "<table border=\"1\" class=\"dataframe\">\n",
       "  <thead>\n",
       "    <tr style=\"text-align: right;\">\n",
       "      <th></th>\n",
       "      <th>Car_Name</th>\n",
       "      <th>Year</th>\n",
       "      <th>Selling_Price</th>\n",
       "      <th>Present_Price</th>\n",
       "      <th>Kms_Driven</th>\n",
       "      <th>Fuel_Type</th>\n",
       "      <th>Seller_Type</th>\n",
       "      <th>Transmission</th>\n",
       "      <th>Owner</th>\n",
       "      <th>Vehicle_Age</th>\n",
       "    </tr>\n",
       "  </thead>\n",
       "  <tbody>\n",
       "    <tr>\n",
       "      <th>0</th>\n",
       "      <td>ritz</td>\n",
       "      <td>2014</td>\n",
       "      <td>3.35</td>\n",
       "      <td>5.59</td>\n",
       "      <td>27000</td>\n",
       "      <td>Petrol</td>\n",
       "      <td>Dealer</td>\n",
       "      <td>Manual</td>\n",
       "      <td>0</td>\n",
       "      <td>10</td>\n",
       "    </tr>\n",
       "    <tr>\n",
       "      <th>1</th>\n",
       "      <td>sx4</td>\n",
       "      <td>2013</td>\n",
       "      <td>4.75</td>\n",
       "      <td>9.54</td>\n",
       "      <td>43000</td>\n",
       "      <td>Diesel</td>\n",
       "      <td>Dealer</td>\n",
       "      <td>Manual</td>\n",
       "      <td>0</td>\n",
       "      <td>11</td>\n",
       "    </tr>\n",
       "    <tr>\n",
       "      <th>2</th>\n",
       "      <td>ciaz</td>\n",
       "      <td>2017</td>\n",
       "      <td>7.25</td>\n",
       "      <td>9.85</td>\n",
       "      <td>6900</td>\n",
       "      <td>Petrol</td>\n",
       "      <td>Dealer</td>\n",
       "      <td>Manual</td>\n",
       "      <td>0</td>\n",
       "      <td>7</td>\n",
       "    </tr>\n",
       "    <tr>\n",
       "      <th>3</th>\n",
       "      <td>wagon r</td>\n",
       "      <td>2011</td>\n",
       "      <td>2.85</td>\n",
       "      <td>4.15</td>\n",
       "      <td>5200</td>\n",
       "      <td>Petrol</td>\n",
       "      <td>Dealer</td>\n",
       "      <td>Manual</td>\n",
       "      <td>0</td>\n",
       "      <td>13</td>\n",
       "    </tr>\n",
       "    <tr>\n",
       "      <th>4</th>\n",
       "      <td>swift</td>\n",
       "      <td>2014</td>\n",
       "      <td>4.60</td>\n",
       "      <td>6.87</td>\n",
       "      <td>42450</td>\n",
       "      <td>Diesel</td>\n",
       "      <td>Dealer</td>\n",
       "      <td>Manual</td>\n",
       "      <td>0</td>\n",
       "      <td>10</td>\n",
       "    </tr>\n",
       "  </tbody>\n",
       "</table>\n",
       "</div>"
      ],
      "text/plain": [
       "  Car_Name  Year  Selling_Price  Present_Price  Kms_Driven Fuel_Type  \\\n",
       "0     ritz  2014           3.35           5.59       27000    Petrol   \n",
       "1      sx4  2013           4.75           9.54       43000    Diesel   \n",
       "2     ciaz  2017           7.25           9.85        6900    Petrol   \n",
       "3  wagon r  2011           2.85           4.15        5200    Petrol   \n",
       "4    swift  2014           4.60           6.87       42450    Diesel   \n",
       "\n",
       "  Seller_Type Transmission  Owner  Vehicle_Age  \n",
       "0      Dealer       Manual      0           10  \n",
       "1      Dealer       Manual      0           11  \n",
       "2      Dealer       Manual      0            7  \n",
       "3      Dealer       Manual      0           13  \n",
       "4      Dealer       Manual      0           10  "
      ]
     },
     "execution_count": 19,
     "metadata": {},
     "output_type": "execute_result"
    }
   ],
   "source": [
    "cars = df[df[\"Present_Price\"] > 2.0]\n",
    "cars.reset_index(drop = True, inplace = True)\n",
    "cars.head()"
   ]
  },
  {
   "cell_type": "code",
   "execution_count": 21,
   "id": "35b42832-cec6-4ebf-b050-0cd35206097b",
   "metadata": {},
   "outputs": [
    {
     "data": {
      "text/html": [
       "<div>\n",
       "<style scoped>\n",
       "    .dataframe tbody tr th:only-of-type {\n",
       "        vertical-align: middle;\n",
       "    }\n",
       "\n",
       "    .dataframe tbody tr th {\n",
       "        vertical-align: top;\n",
       "    }\n",
       "\n",
       "    .dataframe thead th {\n",
       "        text-align: right;\n",
       "    }\n",
       "</style>\n",
       "<table border=\"1\" class=\"dataframe\">\n",
       "  <thead>\n",
       "    <tr style=\"text-align: right;\">\n",
       "      <th></th>\n",
       "      <th>Car_Name</th>\n",
       "      <th>Year</th>\n",
       "      <th>Selling_Price</th>\n",
       "      <th>Present_Price</th>\n",
       "      <th>Kms_Driven</th>\n",
       "      <th>Fuel_Type</th>\n",
       "      <th>Seller_Type</th>\n",
       "      <th>Transmission</th>\n",
       "      <th>Owner</th>\n",
       "      <th>Vehicle_Age</th>\n",
       "    </tr>\n",
       "  </thead>\n",
       "  <tbody>\n",
       "    <tr>\n",
       "      <th>0</th>\n",
       "      <td>ritz</td>\n",
       "      <td>2014</td>\n",
       "      <td>3.35</td>\n",
       "      <td>5.59</td>\n",
       "      <td>27000</td>\n",
       "      <td>Petrol</td>\n",
       "      <td>Dealer</td>\n",
       "      <td>Manual</td>\n",
       "      <td>0</td>\n",
       "      <td>10</td>\n",
       "    </tr>\n",
       "    <tr>\n",
       "      <th>1</th>\n",
       "      <td>sx4</td>\n",
       "      <td>2013</td>\n",
       "      <td>4.75</td>\n",
       "      <td>9.54</td>\n",
       "      <td>43000</td>\n",
       "      <td>Diesel</td>\n",
       "      <td>Dealer</td>\n",
       "      <td>Manual</td>\n",
       "      <td>0</td>\n",
       "      <td>11</td>\n",
       "    </tr>\n",
       "    <tr>\n",
       "      <th>2</th>\n",
       "      <td>ciaz</td>\n",
       "      <td>2017</td>\n",
       "      <td>7.25</td>\n",
       "      <td>9.85</td>\n",
       "      <td>6900</td>\n",
       "      <td>Petrol</td>\n",
       "      <td>Dealer</td>\n",
       "      <td>Manual</td>\n",
       "      <td>0</td>\n",
       "      <td>7</td>\n",
       "    </tr>\n",
       "    <tr>\n",
       "      <th>3</th>\n",
       "      <td>wagon r</td>\n",
       "      <td>2011</td>\n",
       "      <td>2.85</td>\n",
       "      <td>4.15</td>\n",
       "      <td>5200</td>\n",
       "      <td>Petrol</td>\n",
       "      <td>Dealer</td>\n",
       "      <td>Manual</td>\n",
       "      <td>0</td>\n",
       "      <td>13</td>\n",
       "    </tr>\n",
       "    <tr>\n",
       "      <th>4</th>\n",
       "      <td>swift</td>\n",
       "      <td>2014</td>\n",
       "      <td>4.60</td>\n",
       "      <td>6.87</td>\n",
       "      <td>42450</td>\n",
       "      <td>Diesel</td>\n",
       "      <td>Dealer</td>\n",
       "      <td>Manual</td>\n",
       "      <td>0</td>\n",
       "      <td>10</td>\n",
       "    </tr>\n",
       "  </tbody>\n",
       "</table>\n",
       "</div>"
      ],
      "text/plain": [
       "  Car_Name  Year  Selling_Price  Present_Price  Kms_Driven Fuel_Type  \\\n",
       "0     ritz  2014           3.35           5.59       27000    Petrol   \n",
       "1      sx4  2013           4.75           9.54       43000    Diesel   \n",
       "2     ciaz  2017           7.25           9.85        6900    Petrol   \n",
       "3  wagon r  2011           2.85           4.15        5200    Petrol   \n",
       "4    swift  2014           4.60           6.87       42450    Diesel   \n",
       "\n",
       "  Seller_Type Transmission  Owner  Vehicle_Age  \n",
       "0      Dealer       Manual      0           10  \n",
       "1      Dealer       Manual      0           11  \n",
       "2      Dealer       Manual      0            7  \n",
       "3      Dealer       Manual      0           13  \n",
       "4      Dealer       Manual      0           10  "
      ]
     },
     "execution_count": 21,
     "metadata": {},
     "output_type": "execute_result"
    }
   ],
   "source": [
    "cars = cars.loc[cars.Car_Name != \"KTM RC390\"]\n",
    "cars = cars.loc[cars.Car_Name != \"Hyosung GT250R\"]\n",
    "cars = cars.loc[cars.Car_Name != \"KTM 390 Duke\"]\n",
    "cars = cars.loc[cars.Car_Name != \"KTM 390 Duke \"]\n",
    "cars.reset_index(drop = True, inplace = True)\n",
    "cars.head()"
   ]
  },
  {
   "cell_type": "markdown",
   "id": "ee193319-37e3-4b83-9e7b-881f064481f2",
   "metadata": {},
   "source": [
    "Q23. Which is the oldest car sold here?"
   ]
  },
  {
   "cell_type": "markdown",
   "id": "52a7e3f8-4d39-4a04-8e4e-1785d0d421d8",
   "metadata": {},
   "source": [
    "Ans: The oldest cars sold here are 800 and sx4 both manufactured in the year 2003."
   ]
  },
  {
   "cell_type": "code",
   "execution_count": 22,
   "id": "7c1ca542-7ba2-4329-b6bd-4984f020f0d2",
   "metadata": {},
   "outputs": [
    {
     "data": {
      "text/html": [
       "<div>\n",
       "<style scoped>\n",
       "    .dataframe tbody tr th:only-of-type {\n",
       "        vertical-align: middle;\n",
       "    }\n",
       "\n",
       "    .dataframe tbody tr th {\n",
       "        vertical-align: top;\n",
       "    }\n",
       "\n",
       "    .dataframe thead th {\n",
       "        text-align: right;\n",
       "    }\n",
       "</style>\n",
       "<table border=\"1\" class=\"dataframe\">\n",
       "  <thead>\n",
       "    <tr style=\"text-align: right;\">\n",
       "      <th></th>\n",
       "      <th>Car_Name</th>\n",
       "      <th>Year</th>\n",
       "      <th>Selling_Price</th>\n",
       "      <th>Present_Price</th>\n",
       "      <th>Kms_Driven</th>\n",
       "      <th>Fuel_Type</th>\n",
       "      <th>Seller_Type</th>\n",
       "      <th>Transmission</th>\n",
       "      <th>Owner</th>\n",
       "      <th>Vehicle_Age</th>\n",
       "    </tr>\n",
       "  </thead>\n",
       "  <tbody>\n",
       "    <tr>\n",
       "      <th>37</th>\n",
       "      <td>800</td>\n",
       "      <td>2003</td>\n",
       "      <td>0.35</td>\n",
       "      <td>2.28</td>\n",
       "      <td>127000</td>\n",
       "      <td>Petrol</td>\n",
       "      <td>Individual</td>\n",
       "      <td>Manual</td>\n",
       "      <td>0</td>\n",
       "      <td>21</td>\n",
       "    </tr>\n",
       "    <tr>\n",
       "      <th>39</th>\n",
       "      <td>sx4</td>\n",
       "      <td>2003</td>\n",
       "      <td>2.25</td>\n",
       "      <td>7.98</td>\n",
       "      <td>62000</td>\n",
       "      <td>Petrol</td>\n",
       "      <td>Dealer</td>\n",
       "      <td>Manual</td>\n",
       "      <td>0</td>\n",
       "      <td>21</td>\n",
       "    </tr>\n",
       "  </tbody>\n",
       "</table>\n",
       "</div>"
      ],
      "text/plain": [
       "   Car_Name  Year  Selling_Price  Present_Price  Kms_Driven Fuel_Type  \\\n",
       "37      800  2003           0.35           2.28      127000    Petrol   \n",
       "39      sx4  2003           2.25           7.98       62000    Petrol   \n",
       "\n",
       "   Seller_Type Transmission  Owner  Vehicle_Age  \n",
       "37  Individual       Manual      0           21  \n",
       "39      Dealer       Manual      0           21  "
      ]
     },
     "execution_count": 22,
     "metadata": {},
     "output_type": "execute_result"
    }
   ],
   "source": [
    "cars.loc[cars['Year'] == cars['Year'].min()]"
   ]
  },
  {
   "cell_type": "markdown",
   "id": "71f29708-9d2b-4d55-839e-8f2288e11190",
   "metadata": {},
   "source": [
    "Q24. Which is the newest car sold here?"
   ]
  },
  {
   "cell_type": "markdown",
   "id": "7e4b99be-2639-43ce-b742-b9f2c59cfb7d",
   "metadata": {},
   "source": [
    "Ans: The newest car sold here is vitara brezza manufactured in the year 2018"
   ]
  },
  {
   "cell_type": "code",
   "execution_count": 23,
   "id": "64c106dd-674a-45c4-8d34-bb6185fc72c8",
   "metadata": {},
   "outputs": [
    {
     "data": {
      "text/html": [
       "<div>\n",
       "<style scoped>\n",
       "    .dataframe tbody tr th:only-of-type {\n",
       "        vertical-align: middle;\n",
       "    }\n",
       "\n",
       "    .dataframe tbody tr th {\n",
       "        vertical-align: top;\n",
       "    }\n",
       "\n",
       "    .dataframe thead th {\n",
       "        text-align: right;\n",
       "    }\n",
       "</style>\n",
       "<table border=\"1\" class=\"dataframe\">\n",
       "  <thead>\n",
       "    <tr style=\"text-align: right;\">\n",
       "      <th></th>\n",
       "      <th>Car_Name</th>\n",
       "      <th>Year</th>\n",
       "      <th>Selling_Price</th>\n",
       "      <th>Present_Price</th>\n",
       "      <th>Kms_Driven</th>\n",
       "      <th>Fuel_Type</th>\n",
       "      <th>Seller_Type</th>\n",
       "      <th>Transmission</th>\n",
       "      <th>Owner</th>\n",
       "      <th>Vehicle_Age</th>\n",
       "    </tr>\n",
       "  </thead>\n",
       "  <tbody>\n",
       "    <tr>\n",
       "      <th>5</th>\n",
       "      <td>vitara brezza</td>\n",
       "      <td>2018</td>\n",
       "      <td>9.25</td>\n",
       "      <td>9.83</td>\n",
       "      <td>2071</td>\n",
       "      <td>Diesel</td>\n",
       "      <td>Dealer</td>\n",
       "      <td>Manual</td>\n",
       "      <td>0</td>\n",
       "      <td>6</td>\n",
       "    </tr>\n",
       "  </tbody>\n",
       "</table>\n",
       "</div>"
      ],
      "text/plain": [
       "        Car_Name  Year  Selling_Price  Present_Price  Kms_Driven Fuel_Type  \\\n",
       "5  vitara brezza  2018           9.25           9.83        2071    Diesel   \n",
       "\n",
       "  Seller_Type Transmission  Owner  Vehicle_Age  \n",
       "5      Dealer       Manual      0            6  "
      ]
     },
     "execution_count": 23,
     "metadata": {},
     "output_type": "execute_result"
    }
   ],
   "source": [
    "cars.loc[cars['Year'] == cars['Year'].max()]"
   ]
  },
  {
   "cell_type": "markdown",
   "id": "e06ee575-8f92-40de-abf2-27def2c8d425",
   "metadata": {},
   "source": [
    "Q25. Do you find any deal in cars which exceeded the general expectation ? Can you find reason for it ?"
   ]
  },
  {
   "cell_type": "markdown",
   "id": "8ed62aa1-f6ea-4aa2-bf12-c9fb542ad55e",
   "metadata": {},
   "source": [
    "Ans: There are multiple cars with exceptional deals however the reason doesn't appear to be too specific. Most of the cars were sold in the range below 10 lacs. So any luxury car deal above this range seems to be a deal that exceeds expectations which is however it is also not a valid explanation because luxury cars have high prices for obvious measures."
   ]
  },
  {
   "cell_type": "code",
   "execution_count": 24,
   "id": "06ef6860-e091-4bcc-b859-38e5d08f982b",
   "metadata": {},
   "outputs": [
    {
     "data": {
      "image/png": "[encoded data removed]",
      "text/plain": [
       "<Figure size 640x480 with 1 Axes>"
      ]
     },
     "metadata": {},
     "output_type": "display_data"
    }
   ],
   "source": [
    "plt.boxplot(cars.Selling_Price)\n",
    "plt.show()"
   ]
  },
  {
   "cell_type": "code",
   "execution_count": 27,
   "id": "64638d5b-d768-460a-90a5-c8b6ef9810e4",
   "metadata": {},
   "outputs": [
    {
     "data": {
      "text/html": [
       "<div>\n",
       "<style scoped>\n",
       "    .dataframe tbody tr th:only-of-type {\n",
       "        vertical-align: middle;\n",
       "    }\n",
       "\n",
       "    .dataframe tbody tr th {\n",
       "        vertical-align: top;\n",
       "    }\n",
       "\n",
       "    .dataframe thead th {\n",
       "        text-align: right;\n",
       "    }\n",
       "</style>\n",
       "<table border=\"1\" class=\"dataframe\">\n",
       "  <thead>\n",
       "    <tr style=\"text-align: right;\">\n",
       "      <th></th>\n",
       "      <th>Car_Name</th>\n",
       "      <th>Year</th>\n",
       "      <th>Selling_Price</th>\n",
       "      <th>Present_Price</th>\n",
       "      <th>Kms_Driven</th>\n",
       "      <th>Fuel_Type</th>\n",
       "      <th>Seller_Type</th>\n",
       "      <th>Transmission</th>\n",
       "      <th>Owner</th>\n",
       "      <th>Vehicle_Age</th>\n",
       "    </tr>\n",
       "  </thead>\n",
       "  <tbody>\n",
       "    <tr>\n",
       "      <th>50</th>\n",
       "      <td>fortuner</td>\n",
       "      <td>2012</td>\n",
       "      <td>14.90</td>\n",
       "      <td>30.61</td>\n",
       "      <td>104707</td>\n",
       "      <td>Diesel</td>\n",
       "      <td>Dealer</td>\n",
       "      <td>Automatic</td>\n",
       "      <td>0</td>\n",
       "      <td>12</td>\n",
       "    </tr>\n",
       "    <tr>\n",
       "      <th>51</th>\n",
       "      <td>fortuner</td>\n",
       "      <td>2015</td>\n",
       "      <td>23.00</td>\n",
       "      <td>30.61</td>\n",
       "      <td>40000</td>\n",
       "      <td>Diesel</td>\n",
       "      <td>Dealer</td>\n",
       "      <td>Automatic</td>\n",
       "      <td>0</td>\n",
       "      <td>9</td>\n",
       "    </tr>\n",
       "    <tr>\n",
       "      <th>52</th>\n",
       "      <td>innova</td>\n",
       "      <td>2017</td>\n",
       "      <td>18.00</td>\n",
       "      <td>19.77</td>\n",
       "      <td>15000</td>\n",
       "      <td>Diesel</td>\n",
       "      <td>Dealer</td>\n",
       "      <td>Automatic</td>\n",
       "      <td>0</td>\n",
       "      <td>7</td>\n",
       "    </tr>\n",
       "    <tr>\n",
       "      <th>53</th>\n",
       "      <td>fortuner</td>\n",
       "      <td>2013</td>\n",
       "      <td>16.00</td>\n",
       "      <td>30.61</td>\n",
       "      <td>135000</td>\n",
       "      <td>Diesel</td>\n",
       "      <td>Individual</td>\n",
       "      <td>Automatic</td>\n",
       "      <td>0</td>\n",
       "      <td>11</td>\n",
       "    </tr>\n",
       "    <tr>\n",
       "      <th>59</th>\n",
       "      <td>fortuner</td>\n",
       "      <td>2014</td>\n",
       "      <td>19.99</td>\n",
       "      <td>35.96</td>\n",
       "      <td>41000</td>\n",
       "      <td>Diesel</td>\n",
       "      <td>Dealer</td>\n",
       "      <td>Automatic</td>\n",
       "      <td>0</td>\n",
       "      <td>10</td>\n",
       "    </tr>\n",
       "    <tr>\n",
       "      <th>62</th>\n",
       "      <td>fortuner</td>\n",
       "      <td>2014</td>\n",
       "      <td>18.75</td>\n",
       "      <td>35.96</td>\n",
       "      <td>78000</td>\n",
       "      <td>Diesel</td>\n",
       "      <td>Dealer</td>\n",
       "      <td>Automatic</td>\n",
       "      <td>0</td>\n",
       "      <td>10</td>\n",
       "    </tr>\n",
       "    <tr>\n",
       "      <th>63</th>\n",
       "      <td>fortuner</td>\n",
       "      <td>2015</td>\n",
       "      <td>23.50</td>\n",
       "      <td>35.96</td>\n",
       "      <td>47000</td>\n",
       "      <td>Diesel</td>\n",
       "      <td>Dealer</td>\n",
       "      <td>Automatic</td>\n",
       "      <td>0</td>\n",
       "      <td>9</td>\n",
       "    </tr>\n",
       "    <tr>\n",
       "      <th>64</th>\n",
       "      <td>fortuner</td>\n",
       "      <td>2017</td>\n",
       "      <td>33.00</td>\n",
       "      <td>36.23</td>\n",
       "      <td>6000</td>\n",
       "      <td>Diesel</td>\n",
       "      <td>Dealer</td>\n",
       "      <td>Automatic</td>\n",
       "      <td>0</td>\n",
       "      <td>7</td>\n",
       "    </tr>\n",
       "    <tr>\n",
       "      <th>66</th>\n",
       "      <td>innova</td>\n",
       "      <td>2017</td>\n",
       "      <td>19.75</td>\n",
       "      <td>23.15</td>\n",
       "      <td>11000</td>\n",
       "      <td>Petrol</td>\n",
       "      <td>Dealer</td>\n",
       "      <td>Automatic</td>\n",
       "      <td>0</td>\n",
       "      <td>7</td>\n",
       "    </tr>\n",
       "    <tr>\n",
       "      <th>69</th>\n",
       "      <td>corolla altis</td>\n",
       "      <td>2016</td>\n",
       "      <td>14.25</td>\n",
       "      <td>20.91</td>\n",
       "      <td>12000</td>\n",
       "      <td>Petrol</td>\n",
       "      <td>Dealer</td>\n",
       "      <td>Manual</td>\n",
       "      <td>0</td>\n",
       "      <td>8</td>\n",
       "    </tr>\n",
       "    <tr>\n",
       "      <th>79</th>\n",
       "      <td>fortuner</td>\n",
       "      <td>2012</td>\n",
       "      <td>14.50</td>\n",
       "      <td>30.61</td>\n",
       "      <td>89000</td>\n",
       "      <td>Diesel</td>\n",
       "      <td>Dealer</td>\n",
       "      <td>Automatic</td>\n",
       "      <td>0</td>\n",
       "      <td>12</td>\n",
       "    </tr>\n",
       "    <tr>\n",
       "      <th>80</th>\n",
       "      <td>corolla altis</td>\n",
       "      <td>2016</td>\n",
       "      <td>14.73</td>\n",
       "      <td>14.89</td>\n",
       "      <td>23000</td>\n",
       "      <td>Diesel</td>\n",
       "      <td>Dealer</td>\n",
       "      <td>Manual</td>\n",
       "      <td>0</td>\n",
       "      <td>8</td>\n",
       "    </tr>\n",
       "    <tr>\n",
       "      <th>82</th>\n",
       "      <td>innova</td>\n",
       "      <td>2017</td>\n",
       "      <td>23.00</td>\n",
       "      <td>25.39</td>\n",
       "      <td>15000</td>\n",
       "      <td>Diesel</td>\n",
       "      <td>Dealer</td>\n",
       "      <td>Automatic</td>\n",
       "      <td>0</td>\n",
       "      <td>7</td>\n",
       "    </tr>\n",
       "    <tr>\n",
       "      <th>83</th>\n",
       "      <td>innova</td>\n",
       "      <td>2015</td>\n",
       "      <td>12.50</td>\n",
       "      <td>13.46</td>\n",
       "      <td>38000</td>\n",
       "      <td>Diesel</td>\n",
       "      <td>Dealer</td>\n",
       "      <td>Manual</td>\n",
       "      <td>0</td>\n",
       "      <td>9</td>\n",
       "    </tr>\n",
       "    <tr>\n",
       "      <th>86</th>\n",
       "      <td>land cruiser</td>\n",
       "      <td>2010</td>\n",
       "      <td>35.00</td>\n",
       "      <td>92.60</td>\n",
       "      <td>78000</td>\n",
       "      <td>Diesel</td>\n",
       "      <td>Dealer</td>\n",
       "      <td>Manual</td>\n",
       "      <td>0</td>\n",
       "      <td>14</td>\n",
       "    </tr>\n",
       "    <tr>\n",
       "      <th>93</th>\n",
       "      <td>fortuner</td>\n",
       "      <td>2015</td>\n",
       "      <td>23.00</td>\n",
       "      <td>30.61</td>\n",
       "      <td>40000</td>\n",
       "      <td>Diesel</td>\n",
       "      <td>Dealer</td>\n",
       "      <td>Automatic</td>\n",
       "      <td>0</td>\n",
       "      <td>9</td>\n",
       "    </tr>\n",
       "    <tr>\n",
       "      <th>96</th>\n",
       "      <td>innova</td>\n",
       "      <td>2016</td>\n",
       "      <td>20.75</td>\n",
       "      <td>25.39</td>\n",
       "      <td>29000</td>\n",
       "      <td>Diesel</td>\n",
       "      <td>Dealer</td>\n",
       "      <td>Automatic</td>\n",
       "      <td>0</td>\n",
       "      <td>8</td>\n",
       "    </tr>\n",
       "    <tr>\n",
       "      <th>97</th>\n",
       "      <td>corolla altis</td>\n",
       "      <td>2017</td>\n",
       "      <td>17.00</td>\n",
       "      <td>18.64</td>\n",
       "      <td>8700</td>\n",
       "      <td>Petrol</td>\n",
       "      <td>Dealer</td>\n",
       "      <td>Manual</td>\n",
       "      <td>0</td>\n",
       "      <td>7</td>\n",
       "    </tr>\n",
       "    <tr>\n",
       "      <th>149</th>\n",
       "      <td>creta</td>\n",
       "      <td>2016</td>\n",
       "      <td>12.90</td>\n",
       "      <td>13.60</td>\n",
       "      <td>35934</td>\n",
       "      <td>Diesel</td>\n",
       "      <td>Dealer</td>\n",
       "      <td>Manual</td>\n",
       "      <td>0</td>\n",
       "      <td>8</td>\n",
       "    </tr>\n",
       "  </tbody>\n",
       "</table>\n",
       "</div>"
      ],
      "text/plain": [
       "          Car_Name  Year  Selling_Price  Present_Price  Kms_Driven Fuel_Type  \\\n",
       "50        fortuner  2012          14.90          30.61      104707    Diesel   \n",
       "51        fortuner  2015          23.00          30.61       40000    Diesel   \n",
       "52          innova  2017          18.00          19.77       15000    Diesel   \n",
       "53        fortuner  2013          16.00          30.61      135000    Diesel   \n",
       "59        fortuner  2014          19.99          35.96       41000    Diesel   \n",
       "62        fortuner  2014          18.75          35.96       78000    Diesel   \n",
       "63        fortuner  2015          23.50          35.96       47000    Diesel   \n",
       "64        fortuner  2017          33.00          36.23        6000    Diesel   \n",
       "66          innova  2017          19.75          23.15       11000    Petrol   \n",
       "69   corolla altis  2016          14.25          20.91       12000    Petrol   \n",
       "79        fortuner  2012          14.50          30.61       89000    Diesel   \n",
       "80   corolla altis  2016          14.73          14.89       23000    Diesel   \n",
       "82          innova  2017          23.00          25.39       15000    Diesel   \n",
       "83          innova  2015          12.50          13.46       38000    Diesel   \n",
       "86    land cruiser  2010          35.00          92.60       78000    Diesel   \n",
       "93        fortuner  2015          23.00          30.61       40000    Diesel   \n",
       "96          innova  2016          20.75          25.39       29000    Diesel   \n",
       "97   corolla altis  2017          17.00          18.64        8700    Petrol   \n",
       "149          creta  2016          12.90          13.60       35934    Diesel   \n",
       "\n",
       "    Seller_Type Transmission  Owner  Vehicle_Age  \n",
       "50       Dealer    Automatic      0           12  \n",
       "51       Dealer    Automatic      0            9  \n",
       "52       Dealer    Automatic      0            7  \n",
       "53   Individual    Automatic      0           11  \n",
       "59       Dealer    Automatic      0           10  \n",
       "62       Dealer    Automatic      0           10  \n",
       "63       Dealer    Automatic      0            9  \n",
       "64       Dealer    Automatic      0            7  \n",
       "66       Dealer    Automatic      0            7  \n",
       "69       Dealer       Manual      0            8  \n",
       "79       Dealer    Automatic      0           12  \n",
       "80       Dealer       Manual      0            8  \n",
       "82       Dealer    Automatic      0            7  \n",
       "83       Dealer       Manual      0            9  \n",
       "86       Dealer       Manual      0           14  \n",
       "93       Dealer    Automatic      0            9  \n",
       "96       Dealer    Automatic      0            8  \n",
       "97       Dealer       Manual      0            7  \n",
       "149      Dealer       Manual      0            8  "
      ]
     },
     "execution_count": 27,
     "metadata": {},
     "output_type": "execute_result"
    }
   ],
   "source": [
    "cars[cars['Selling_Price'] > 12]"
   ]
  },
  {
   "cell_type": "code",
   "execution_count": 28,
   "id": "48aeac9c-22b8-43af-b3d7-e160691047d0",
   "metadata": {},
   "outputs": [
    {
     "data": {
      "image/png": "[encoded data removed]",
      "text/plain": [
       "<Figure size 640x480 with 1 Axes>"
      ]
     },
     "metadata": {},
     "output_type": "display_data"
    },
    {
     "data": {
      "text/plain": [
       "<Axes: xlabel='Selling_Price'>"
      ]
     },
     "execution_count": 28,
     "metadata": {},
     "output_type": "execute_result"
    },
    {
     "data": {
      "image/png": "[encoded data removed]",
      "text/plain": [
       "<Figure size 640x480 with 1 Axes>"
      ]
     },
     "metadata": {},
     "output_type": "display_data"
    }
   ],
   "source": [
    "plt.hist(cars.Present_Price)\n",
    "plt.xlabel(\"Present Price\")\n",
    "plt.ylabel(\"Number of cars\")\n",
    "plt.show()\n",
    "\n",
    "sns.swarmplot(x = cars.Selling_Price)"
   ]
  },
  {
   "cell_type": "code",
   "execution_count": null,
   "id": "6fe62c67-c487-4acd-8b29-60cbbfea4d69",
   "metadata": {},
   "outputs": [],
   "source": []
  }
 ],
 "metadata": {
  "kernelspec": {
   "display_name": "Python 3 (ipykernel)",
   "language": "python",
   "name": "python3"
  },
  "language_info": {
   "codemirror_mode": {
    "name": "ipython",
    "version": 3
   },
   "file_extension": ".py",
   "mimetype": "text/x-python",
   "name": "python",
   "nbconvert_exporter": "python",
   "pygments_lexer": "ipython3",
   "version": "3.12.7"
  }
 },
 "nbformat": 4,
 "nbformat_minor": 5
}
